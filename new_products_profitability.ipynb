{
 "cells": [
  {
   "cell_type": "markdown",
   "metadata": {},
   "source": [
    "# Import Libraries"
   ]
  },
  {
   "cell_type": "code",
   "execution_count": 1,
   "metadata": {},
   "outputs": [],
   "source": [
    "import numpy as np\n",
    "import pandas as pd\n",
    "import scipy\n",
    "from math import sqrt\n",
    "import matplotlib.pyplot as plt\n",
    "import seaborn as sns\n",
    "\n",
    "# pre-processing & feature selection\n",
    "\n",
    "# from sklearn import preprocessing\n",
    "from sklearn.preprocessing import OneHotEncoder\n",
    "from sklearn.preprocessing import LabelEncoder\n",
    "from sklearn.feature_selection import RFE\n",
    "from sklearn.decomposition import PCA\n",
    "\n",
    "# estimators\n",
    "from sklearn.ensemble import RandomForestRegressor\n",
    "from sklearn.ensemble import GradientBoostingRegressor\n",
    "from sklearn.svm import SVR\n",
    "\n",
    "# model metrics\n",
    "from sklearn.metrics import mean_squared_error\n",
    "from sklearn.metrics import r2_score\n",
    "from sklearn.model_selection import cross_val_score\n",
    "from sklearn.metrics import confusion_matrix\n",
    "\n",
    "# cross validation\n",
    "from sklearn.model_selection import train_test_split\n",
    "\n",
    "# parameter tuning\n",
    "from sklearn.model_selection import GridSearchCV"
   ]
  },
  {
   "cell_type": "markdown",
   "metadata": {},
   "source": [
    "# Import Dataset"
   ]
  },
  {
   "cell_type": "code",
   "execution_count": 2,
   "metadata": {},
   "outputs": [],
   "source": [
    "orig = pd.read_csv('existingproductattributes2017.csv', header =0)"
   ]
  },
  {
   "cell_type": "code",
   "execution_count": 3,
   "metadata": {},
   "outputs": [],
   "source": [
    "# create a working copy of the data\n",
    "rawData = orig.copy()"
   ]
  },
  {
   "cell_type": "markdown",
   "metadata": {},
   "source": [
    "# Pre-Process Dataset"
   ]
  },
  {
   "cell_type": "code",
   "execution_count": 4,
   "metadata": {},
   "outputs": [
    {
     "data": {
      "text/html": [
       "<div>\n",
       "<style scoped>\n",
       "    .dataframe tbody tr th:only-of-type {\n",
       "        vertical-align: middle;\n",
       "    }\n",
       "\n",
       "    .dataframe tbody tr th {\n",
       "        vertical-align: top;\n",
       "    }\n",
       "\n",
       "    .dataframe thead th {\n",
       "        text-align: right;\n",
       "    }\n",
       "</style>\n",
       "<table border=\"1\" class=\"dataframe\">\n",
       "  <thead>\n",
       "    <tr style=\"text-align: right;\">\n",
       "      <th></th>\n",
       "      <th>ProductType</th>\n",
       "      <th>ProductNum</th>\n",
       "      <th>Price</th>\n",
       "      <th>x5StarReviews</th>\n",
       "      <th>x4StarReviews</th>\n",
       "      <th>x3StarReviews</th>\n",
       "      <th>x2StarReviews</th>\n",
       "      <th>x1StarReviews</th>\n",
       "      <th>PositiveServiceReview</th>\n",
       "      <th>NegativeServiceReview</th>\n",
       "      <th>Recommendproduct</th>\n",
       "      <th>BestSellersRank</th>\n",
       "      <th>ShippingWeight</th>\n",
       "      <th>ProductDepth</th>\n",
       "      <th>ProductWidth</th>\n",
       "      <th>ProductHeight</th>\n",
       "      <th>ProfitMargin</th>\n",
       "      <th>Volume</th>\n",
       "    </tr>\n",
       "  </thead>\n",
       "  <tbody>\n",
       "    <tr>\n",
       "      <th>0</th>\n",
       "      <td>PC</td>\n",
       "      <td>101</td>\n",
       "      <td>949.00</td>\n",
       "      <td>3</td>\n",
       "      <td>3</td>\n",
       "      <td>2</td>\n",
       "      <td>0</td>\n",
       "      <td>0</td>\n",
       "      <td>2</td>\n",
       "      <td>0</td>\n",
       "      <td>0.9</td>\n",
       "      <td>1967.0</td>\n",
       "      <td>25.8</td>\n",
       "      <td>23.94</td>\n",
       "      <td>6.62</td>\n",
       "      <td>16.89</td>\n",
       "      <td>0.15</td>\n",
       "      <td>12</td>\n",
       "    </tr>\n",
       "    <tr>\n",
       "      <th>1</th>\n",
       "      <td>PC</td>\n",
       "      <td>102</td>\n",
       "      <td>2249.99</td>\n",
       "      <td>2</td>\n",
       "      <td>1</td>\n",
       "      <td>0</td>\n",
       "      <td>0</td>\n",
       "      <td>0</td>\n",
       "      <td>1</td>\n",
       "      <td>0</td>\n",
       "      <td>0.9</td>\n",
       "      <td>4806.0</td>\n",
       "      <td>50.0</td>\n",
       "      <td>35.00</td>\n",
       "      <td>31.75</td>\n",
       "      <td>19.00</td>\n",
       "      <td>0.25</td>\n",
       "      <td>8</td>\n",
       "    </tr>\n",
       "    <tr>\n",
       "      <th>2</th>\n",
       "      <td>PC</td>\n",
       "      <td>103</td>\n",
       "      <td>399.00</td>\n",
       "      <td>3</td>\n",
       "      <td>0</td>\n",
       "      <td>0</td>\n",
       "      <td>0</td>\n",
       "      <td>0</td>\n",
       "      <td>1</td>\n",
       "      <td>0</td>\n",
       "      <td>0.9</td>\n",
       "      <td>12076.0</td>\n",
       "      <td>17.4</td>\n",
       "      <td>10.50</td>\n",
       "      <td>8.30</td>\n",
       "      <td>10.20</td>\n",
       "      <td>0.08</td>\n",
       "      <td>12</td>\n",
       "    </tr>\n",
       "    <tr>\n",
       "      <th>3</th>\n",
       "      <td>Laptop</td>\n",
       "      <td>104</td>\n",
       "      <td>409.99</td>\n",
       "      <td>49</td>\n",
       "      <td>19</td>\n",
       "      <td>8</td>\n",
       "      <td>3</td>\n",
       "      <td>9</td>\n",
       "      <td>7</td>\n",
       "      <td>8</td>\n",
       "      <td>0.8</td>\n",
       "      <td>109.0</td>\n",
       "      <td>5.7</td>\n",
       "      <td>15.00</td>\n",
       "      <td>9.90</td>\n",
       "      <td>1.30</td>\n",
       "      <td>0.08</td>\n",
       "      <td>196</td>\n",
       "    </tr>\n",
       "    <tr>\n",
       "      <th>4</th>\n",
       "      <td>Laptop</td>\n",
       "      <td>105</td>\n",
       "      <td>1079.99</td>\n",
       "      <td>58</td>\n",
       "      <td>31</td>\n",
       "      <td>11</td>\n",
       "      <td>7</td>\n",
       "      <td>36</td>\n",
       "      <td>7</td>\n",
       "      <td>20</td>\n",
       "      <td>0.7</td>\n",
       "      <td>268.0</td>\n",
       "      <td>7.0</td>\n",
       "      <td>12.90</td>\n",
       "      <td>0.30</td>\n",
       "      <td>8.90</td>\n",
       "      <td>0.09</td>\n",
       "      <td>232</td>\n",
       "    </tr>\n",
       "  </tbody>\n",
       "</table>\n",
       "</div>"
      ],
      "text/plain": [
       "  ProductType  ProductNum    Price  x5StarReviews  x4StarReviews  \\\n",
       "0          PC         101   949.00              3              3   \n",
       "1          PC         102  2249.99              2              1   \n",
       "2          PC         103   399.00              3              0   \n",
       "3      Laptop         104   409.99             49             19   \n",
       "4      Laptop         105  1079.99             58             31   \n",
       "\n",
       "   x3StarReviews  x2StarReviews  x1StarReviews  PositiveServiceReview  \\\n",
       "0              2              0              0                      2   \n",
       "1              0              0              0                      1   \n",
       "2              0              0              0                      1   \n",
       "3              8              3              9                      7   \n",
       "4             11              7             36                      7   \n",
       "\n",
       "   NegativeServiceReview  Recommendproduct  BestSellersRank  ShippingWeight  \\\n",
       "0                      0               0.9           1967.0            25.8   \n",
       "1                      0               0.9           4806.0            50.0   \n",
       "2                      0               0.9          12076.0            17.4   \n",
       "3                      8               0.8            109.0             5.7   \n",
       "4                     20               0.7            268.0             7.0   \n",
       "\n",
       "   ProductDepth  ProductWidth  ProductHeight  ProfitMargin  Volume  \n",
       "0         23.94          6.62          16.89          0.15      12  \n",
       "1         35.00         31.75          19.00          0.25       8  \n",
       "2         10.50          8.30          10.20          0.08      12  \n",
       "3         15.00          9.90           1.30          0.08     196  \n",
       "4         12.90          0.30           8.90          0.09     232  "
      ]
     },
     "execution_count": 4,
     "metadata": {},
     "output_type": "execute_result"
    }
   ],
   "source": [
    "rawData.head()"
   ]
  },
  {
   "cell_type": "code",
   "execution_count": 5,
   "metadata": {},
   "outputs": [
    {
     "name": "stdout",
     "output_type": "stream",
     "text": [
      "<class 'pandas.core.frame.DataFrame'>\n",
      "RangeIndex: 80 entries, 0 to 79\n",
      "Data columns (total 18 columns):\n",
      "ProductType              80 non-null object\n",
      "ProductNum               80 non-null int64\n",
      "Price                    80 non-null float64\n",
      "x5StarReviews            80 non-null int64\n",
      "x4StarReviews            80 non-null int64\n",
      "x3StarReviews            80 non-null int64\n",
      "x2StarReviews            80 non-null int64\n",
      "x1StarReviews            80 non-null int64\n",
      "PositiveServiceReview    80 non-null int64\n",
      "NegativeServiceReview    80 non-null int64\n",
      "Recommendproduct         80 non-null float64\n",
      "BestSellersRank          65 non-null float64\n",
      "ShippingWeight           80 non-null float64\n",
      "ProductDepth             80 non-null float64\n",
      "ProductWidth             80 non-null float64\n",
      "ProductHeight            80 non-null float64\n",
      "ProfitMargin             80 non-null float64\n",
      "Volume                   80 non-null int64\n",
      "dtypes: float64(8), int64(9), object(1)\n",
      "memory usage: 11.3+ KB\n"
     ]
    }
   ],
   "source": [
    "rawData.info()"
   ]
  },
  {
   "cell_type": "code",
   "execution_count": 6,
   "metadata": {},
   "outputs": [
    {
     "data": {
      "text/html": [
       "<div>\n",
       "<style scoped>\n",
       "    .dataframe tbody tr th:only-of-type {\n",
       "        vertical-align: middle;\n",
       "    }\n",
       "\n",
       "    .dataframe tbody tr th {\n",
       "        vertical-align: top;\n",
       "    }\n",
       "\n",
       "    .dataframe thead th {\n",
       "        text-align: right;\n",
       "    }\n",
       "</style>\n",
       "<table border=\"1\" class=\"dataframe\">\n",
       "  <thead>\n",
       "    <tr style=\"text-align: right;\">\n",
       "      <th></th>\n",
       "      <th>ProductNum</th>\n",
       "      <th>Price</th>\n",
       "      <th>x5StarReviews</th>\n",
       "      <th>x4StarReviews</th>\n",
       "      <th>x3StarReviews</th>\n",
       "      <th>x2StarReviews</th>\n",
       "      <th>x1StarReviews</th>\n",
       "      <th>PositiveServiceReview</th>\n",
       "      <th>NegativeServiceReview</th>\n",
       "      <th>Recommendproduct</th>\n",
       "      <th>BestSellersRank</th>\n",
       "      <th>ShippingWeight</th>\n",
       "      <th>ProductDepth</th>\n",
       "      <th>ProductWidth</th>\n",
       "      <th>ProductHeight</th>\n",
       "      <th>ProfitMargin</th>\n",
       "      <th>Volume</th>\n",
       "    </tr>\n",
       "  </thead>\n",
       "  <tbody>\n",
       "    <tr>\n",
       "      <th>count</th>\n",
       "      <td>80.000000</td>\n",
       "      <td>80.000000</td>\n",
       "      <td>80.000000</td>\n",
       "      <td>80.000000</td>\n",
       "      <td>80.000000</td>\n",
       "      <td>80.000000</td>\n",
       "      <td>80.000000</td>\n",
       "      <td>80.000000</td>\n",
       "      <td>80.000000</td>\n",
       "      <td>80.000000</td>\n",
       "      <td>65.000000</td>\n",
       "      <td>80.000000</td>\n",
       "      <td>80.000000</td>\n",
       "      <td>80.000000</td>\n",
       "      <td>80.000000</td>\n",
       "      <td>80.00000</td>\n",
       "      <td>80.000000</td>\n",
       "    </tr>\n",
       "    <tr>\n",
       "      <th>mean</th>\n",
       "      <td>142.550000</td>\n",
       "      <td>247.251125</td>\n",
       "      <td>176.250000</td>\n",
       "      <td>40.200000</td>\n",
       "      <td>14.787500</td>\n",
       "      <td>13.787500</td>\n",
       "      <td>37.675000</td>\n",
       "      <td>51.750000</td>\n",
       "      <td>6.225000</td>\n",
       "      <td>0.745000</td>\n",
       "      <td>1126.307692</td>\n",
       "      <td>9.668125</td>\n",
       "      <td>14.425250</td>\n",
       "      <td>7.819000</td>\n",
       "      <td>6.258625</td>\n",
       "      <td>0.15450</td>\n",
       "      <td>705.000000</td>\n",
       "    </tr>\n",
       "    <tr>\n",
       "      <th>std</th>\n",
       "      <td>26.732572</td>\n",
       "      <td>339.574925</td>\n",
       "      <td>379.193698</td>\n",
       "      <td>70.741891</td>\n",
       "      <td>30.963717</td>\n",
       "      <td>45.924455</td>\n",
       "      <td>186.718483</td>\n",
       "      <td>104.471606</td>\n",
       "      <td>14.304974</td>\n",
       "      <td>0.197388</td>\n",
       "      <td>3261.130095</td>\n",
       "      <td>15.207573</td>\n",
       "      <td>34.930846</td>\n",
       "      <td>6.814665</td>\n",
       "      <td>6.888852</td>\n",
       "      <td>0.11639</td>\n",
       "      <td>1516.774793</td>\n",
       "    </tr>\n",
       "    <tr>\n",
       "      <th>min</th>\n",
       "      <td>101.000000</td>\n",
       "      <td>3.600000</td>\n",
       "      <td>0.000000</td>\n",
       "      <td>0.000000</td>\n",
       "      <td>0.000000</td>\n",
       "      <td>0.000000</td>\n",
       "      <td>0.000000</td>\n",
       "      <td>0.000000</td>\n",
       "      <td>0.000000</td>\n",
       "      <td>0.100000</td>\n",
       "      <td>1.000000</td>\n",
       "      <td>0.010000</td>\n",
       "      <td>0.000000</td>\n",
       "      <td>0.000000</td>\n",
       "      <td>0.000000</td>\n",
       "      <td>0.05000</td>\n",
       "      <td>0.000000</td>\n",
       "    </tr>\n",
       "    <tr>\n",
       "      <th>25%</th>\n",
       "      <td>120.750000</td>\n",
       "      <td>52.665000</td>\n",
       "      <td>10.000000</td>\n",
       "      <td>2.750000</td>\n",
       "      <td>2.000000</td>\n",
       "      <td>1.000000</td>\n",
       "      <td>2.000000</td>\n",
       "      <td>2.000000</td>\n",
       "      <td>1.000000</td>\n",
       "      <td>0.700000</td>\n",
       "      <td>7.000000</td>\n",
       "      <td>0.512500</td>\n",
       "      <td>4.775000</td>\n",
       "      <td>1.750000</td>\n",
       "      <td>0.400000</td>\n",
       "      <td>0.05000</td>\n",
       "      <td>40.000000</td>\n",
       "    </tr>\n",
       "    <tr>\n",
       "      <th>50%</th>\n",
       "      <td>140.500000</td>\n",
       "      <td>132.720000</td>\n",
       "      <td>50.000000</td>\n",
       "      <td>22.000000</td>\n",
       "      <td>7.000000</td>\n",
       "      <td>3.000000</td>\n",
       "      <td>8.500000</td>\n",
       "      <td>5.500000</td>\n",
       "      <td>3.000000</td>\n",
       "      <td>0.800000</td>\n",
       "      <td>27.000000</td>\n",
       "      <td>2.100000</td>\n",
       "      <td>7.950000</td>\n",
       "      <td>6.800000</td>\n",
       "      <td>3.950000</td>\n",
       "      <td>0.12000</td>\n",
       "      <td>200.000000</td>\n",
       "    </tr>\n",
       "    <tr>\n",
       "      <th>75%</th>\n",
       "      <td>160.250000</td>\n",
       "      <td>352.490000</td>\n",
       "      <td>306.500000</td>\n",
       "      <td>33.000000</td>\n",
       "      <td>11.250000</td>\n",
       "      <td>7.000000</td>\n",
       "      <td>15.250000</td>\n",
       "      <td>42.000000</td>\n",
       "      <td>6.250000</td>\n",
       "      <td>0.900000</td>\n",
       "      <td>281.000000</td>\n",
       "      <td>11.205000</td>\n",
       "      <td>15.025000</td>\n",
       "      <td>11.275000</td>\n",
       "      <td>10.300000</td>\n",
       "      <td>0.20000</td>\n",
       "      <td>1226.000000</td>\n",
       "    </tr>\n",
       "    <tr>\n",
       "      <th>max</th>\n",
       "      <td>200.000000</td>\n",
       "      <td>2249.990000</td>\n",
       "      <td>2801.000000</td>\n",
       "      <td>431.000000</td>\n",
       "      <td>162.000000</td>\n",
       "      <td>370.000000</td>\n",
       "      <td>1654.000000</td>\n",
       "      <td>536.000000</td>\n",
       "      <td>112.000000</td>\n",
       "      <td>1.000000</td>\n",
       "      <td>17502.000000</td>\n",
       "      <td>63.000000</td>\n",
       "      <td>300.000000</td>\n",
       "      <td>31.750000</td>\n",
       "      <td>25.800000</td>\n",
       "      <td>0.40000</td>\n",
       "      <td>11204.000000</td>\n",
       "    </tr>\n",
       "  </tbody>\n",
       "</table>\n",
       "</div>"
      ],
      "text/plain": [
       "       ProductNum        Price  x5StarReviews  x4StarReviews  x3StarReviews  \\\n",
       "count   80.000000    80.000000      80.000000      80.000000      80.000000   \n",
       "mean   142.550000   247.251125     176.250000      40.200000      14.787500   \n",
       "std     26.732572   339.574925     379.193698      70.741891      30.963717   \n",
       "min    101.000000     3.600000       0.000000       0.000000       0.000000   \n",
       "25%    120.750000    52.665000      10.000000       2.750000       2.000000   \n",
       "50%    140.500000   132.720000      50.000000      22.000000       7.000000   \n",
       "75%    160.250000   352.490000     306.500000      33.000000      11.250000   \n",
       "max    200.000000  2249.990000    2801.000000     431.000000     162.000000   \n",
       "\n",
       "       x2StarReviews  x1StarReviews  PositiveServiceReview  \\\n",
       "count      80.000000      80.000000              80.000000   \n",
       "mean       13.787500      37.675000              51.750000   \n",
       "std        45.924455     186.718483             104.471606   \n",
       "min         0.000000       0.000000               0.000000   \n",
       "25%         1.000000       2.000000               2.000000   \n",
       "50%         3.000000       8.500000               5.500000   \n",
       "75%         7.000000      15.250000              42.000000   \n",
       "max       370.000000    1654.000000             536.000000   \n",
       "\n",
       "       NegativeServiceReview  Recommendproduct  BestSellersRank  \\\n",
       "count              80.000000         80.000000        65.000000   \n",
       "mean                6.225000          0.745000      1126.307692   \n",
       "std                14.304974          0.197388      3261.130095   \n",
       "min                 0.000000          0.100000         1.000000   \n",
       "25%                 1.000000          0.700000         7.000000   \n",
       "50%                 3.000000          0.800000        27.000000   \n",
       "75%                 6.250000          0.900000       281.000000   \n",
       "max               112.000000          1.000000     17502.000000   \n",
       "\n",
       "       ShippingWeight  ProductDepth  ProductWidth  ProductHeight  \\\n",
       "count       80.000000     80.000000     80.000000      80.000000   \n",
       "mean         9.668125     14.425250      7.819000       6.258625   \n",
       "std         15.207573     34.930846      6.814665       6.888852   \n",
       "min          0.010000      0.000000      0.000000       0.000000   \n",
       "25%          0.512500      4.775000      1.750000       0.400000   \n",
       "50%          2.100000      7.950000      6.800000       3.950000   \n",
       "75%         11.205000     15.025000     11.275000      10.300000   \n",
       "max         63.000000    300.000000     31.750000      25.800000   \n",
       "\n",
       "       ProfitMargin        Volume  \n",
       "count      80.00000     80.000000  \n",
       "mean        0.15450    705.000000  \n",
       "std         0.11639   1516.774793  \n",
       "min         0.05000      0.000000  \n",
       "25%         0.05000     40.000000  \n",
       "50%         0.12000    200.000000  \n",
       "75%         0.20000   1226.000000  \n",
       "max         0.40000  11204.000000  "
      ]
     },
     "execution_count": 6,
     "metadata": {},
     "output_type": "execute_result"
    }
   ],
   "source": [
    "rawData.describe()"
   ]
  },
  {
   "cell_type": "code",
   "execution_count": 7,
   "metadata": {},
   "outputs": [
    {
     "data": {
      "text/plain": [
       "15"
      ]
     },
     "execution_count": 7,
     "metadata": {},
     "output_type": "execute_result"
    }
   ],
   "source": [
    "rawData.isnull().sum().sum()"
   ]
  },
  {
   "cell_type": "code",
   "execution_count": 8,
   "metadata": {},
   "outputs": [
    {
     "data": {
      "text/plain": [
       "ProductType              False\n",
       "ProductNum               False\n",
       "Price                    False\n",
       "x5StarReviews            False\n",
       "x4StarReviews            False\n",
       "x3StarReviews            False\n",
       "x2StarReviews            False\n",
       "x1StarReviews            False\n",
       "PositiveServiceReview    False\n",
       "NegativeServiceReview    False\n",
       "Recommendproduct         False\n",
       "BestSellersRank           True\n",
       "ShippingWeight           False\n",
       "ProductDepth             False\n",
       "ProductWidth             False\n",
       "ProductHeight            False\n",
       "ProfitMargin             False\n",
       "Volume                   False\n",
       "dtype: bool"
      ]
     },
     "execution_count": 8,
     "metadata": {},
     "output_type": "execute_result"
    }
   ],
   "source": [
    "rawData.isna().any()"
   ]
  },
  {
   "cell_type": "code",
   "execution_count": 9,
   "metadata": {},
   "outputs": [],
   "source": [
    "# remove column with NA values\n",
    "rawData.drop('BestSellersRank', axis=1, inplace=True)"
   ]
  },
  {
   "cell_type": "code",
   "execution_count": 10,
   "metadata": {},
   "outputs": [],
   "source": [
    "# # Remove ProductNum as it is a unique identifier and does not contribute to modeling.\n",
    "rawData.drop('ProductNum', axis=1, inplace=True)"
   ]
  },
  {
   "cell_type": "code",
   "execution_count": 11,
   "metadata": {
    "scrolled": false
   },
   "outputs": [
    {
     "name": "stdout",
     "output_type": "stream",
     "text": [
      "<class 'pandas.core.frame.DataFrame'>\n",
      "RangeIndex: 80 entries, 0 to 79\n",
      "Data columns (total 16 columns):\n",
      "ProductType              80 non-null object\n",
      "Price                    80 non-null float64\n",
      "x5StarReviews            80 non-null int64\n",
      "x4StarReviews            80 non-null int64\n",
      "x3StarReviews            80 non-null int64\n",
      "x2StarReviews            80 non-null int64\n",
      "x1StarReviews            80 non-null int64\n",
      "PositiveServiceReview    80 non-null int64\n",
      "NegativeServiceReview    80 non-null int64\n",
      "Recommendproduct         80 non-null float64\n",
      "ShippingWeight           80 non-null float64\n",
      "ProductDepth             80 non-null float64\n",
      "ProductWidth             80 non-null float64\n",
      "ProductHeight            80 non-null float64\n",
      "ProfitMargin             80 non-null float64\n",
      "Volume                   80 non-null int64\n",
      "dtypes: float64(7), int64(8), object(1)\n",
      "memory usage: 10.1+ KB\n"
     ]
    }
   ],
   "source": [
    "rawData.info()"
   ]
  },
  {
   "cell_type": "markdown",
   "metadata": {},
   "source": [
    "# Select Features & Dependent Variable"
   ]
  },
  {
   "cell_type": "code",
   "execution_count": 12,
   "metadata": {},
   "outputs": [],
   "source": [
    "X = rawData.iloc[:,0:15]"
   ]
  },
  {
   "cell_type": "code",
   "execution_count": 13,
   "metadata": {},
   "outputs": [
    {
     "data": {
      "text/html": [
       "<div>\n",
       "<style scoped>\n",
       "    .dataframe tbody tr th:only-of-type {\n",
       "        vertical-align: middle;\n",
       "    }\n",
       "\n",
       "    .dataframe tbody tr th {\n",
       "        vertical-align: top;\n",
       "    }\n",
       "\n",
       "    .dataframe thead th {\n",
       "        text-align: right;\n",
       "    }\n",
       "</style>\n",
       "<table border=\"1\" class=\"dataframe\">\n",
       "  <thead>\n",
       "    <tr style=\"text-align: right;\">\n",
       "      <th></th>\n",
       "      <th>ProductType</th>\n",
       "      <th>Price</th>\n",
       "      <th>x5StarReviews</th>\n",
       "      <th>x4StarReviews</th>\n",
       "      <th>x3StarReviews</th>\n",
       "      <th>x2StarReviews</th>\n",
       "      <th>x1StarReviews</th>\n",
       "      <th>PositiveServiceReview</th>\n",
       "      <th>NegativeServiceReview</th>\n",
       "      <th>Recommendproduct</th>\n",
       "      <th>ShippingWeight</th>\n",
       "      <th>ProductDepth</th>\n",
       "      <th>ProductWidth</th>\n",
       "      <th>ProductHeight</th>\n",
       "      <th>ProfitMargin</th>\n",
       "    </tr>\n",
       "  </thead>\n",
       "  <tbody>\n",
       "    <tr>\n",
       "      <th>0</th>\n",
       "      <td>PC</td>\n",
       "      <td>949.00</td>\n",
       "      <td>3</td>\n",
       "      <td>3</td>\n",
       "      <td>2</td>\n",
       "      <td>0</td>\n",
       "      <td>0</td>\n",
       "      <td>2</td>\n",
       "      <td>0</td>\n",
       "      <td>0.9</td>\n",
       "      <td>25.8</td>\n",
       "      <td>23.94</td>\n",
       "      <td>6.62</td>\n",
       "      <td>16.89</td>\n",
       "      <td>0.15</td>\n",
       "    </tr>\n",
       "    <tr>\n",
       "      <th>1</th>\n",
       "      <td>PC</td>\n",
       "      <td>2249.99</td>\n",
       "      <td>2</td>\n",
       "      <td>1</td>\n",
       "      <td>0</td>\n",
       "      <td>0</td>\n",
       "      <td>0</td>\n",
       "      <td>1</td>\n",
       "      <td>0</td>\n",
       "      <td>0.9</td>\n",
       "      <td>50.0</td>\n",
       "      <td>35.00</td>\n",
       "      <td>31.75</td>\n",
       "      <td>19.00</td>\n",
       "      <td>0.25</td>\n",
       "    </tr>\n",
       "    <tr>\n",
       "      <th>2</th>\n",
       "      <td>PC</td>\n",
       "      <td>399.00</td>\n",
       "      <td>3</td>\n",
       "      <td>0</td>\n",
       "      <td>0</td>\n",
       "      <td>0</td>\n",
       "      <td>0</td>\n",
       "      <td>1</td>\n",
       "      <td>0</td>\n",
       "      <td>0.9</td>\n",
       "      <td>17.4</td>\n",
       "      <td>10.50</td>\n",
       "      <td>8.30</td>\n",
       "      <td>10.20</td>\n",
       "      <td>0.08</td>\n",
       "    </tr>\n",
       "    <tr>\n",
       "      <th>3</th>\n",
       "      <td>Laptop</td>\n",
       "      <td>409.99</td>\n",
       "      <td>49</td>\n",
       "      <td>19</td>\n",
       "      <td>8</td>\n",
       "      <td>3</td>\n",
       "      <td>9</td>\n",
       "      <td>7</td>\n",
       "      <td>8</td>\n",
       "      <td>0.8</td>\n",
       "      <td>5.7</td>\n",
       "      <td>15.00</td>\n",
       "      <td>9.90</td>\n",
       "      <td>1.30</td>\n",
       "      <td>0.08</td>\n",
       "    </tr>\n",
       "    <tr>\n",
       "      <th>4</th>\n",
       "      <td>Laptop</td>\n",
       "      <td>1079.99</td>\n",
       "      <td>58</td>\n",
       "      <td>31</td>\n",
       "      <td>11</td>\n",
       "      <td>7</td>\n",
       "      <td>36</td>\n",
       "      <td>7</td>\n",
       "      <td>20</td>\n",
       "      <td>0.7</td>\n",
       "      <td>7.0</td>\n",
       "      <td>12.90</td>\n",
       "      <td>0.30</td>\n",
       "      <td>8.90</td>\n",
       "      <td>0.09</td>\n",
       "    </tr>\n",
       "  </tbody>\n",
       "</table>\n",
       "</div>"
      ],
      "text/plain": [
       "  ProductType    Price  x5StarReviews  x4StarReviews  x3StarReviews  \\\n",
       "0          PC   949.00              3              3              2   \n",
       "1          PC  2249.99              2              1              0   \n",
       "2          PC   399.00              3              0              0   \n",
       "3      Laptop   409.99             49             19              8   \n",
       "4      Laptop  1079.99             58             31             11   \n",
       "\n",
       "   x2StarReviews  x1StarReviews  PositiveServiceReview  NegativeServiceReview  \\\n",
       "0              0              0                      2                      0   \n",
       "1              0              0                      1                      0   \n",
       "2              0              0                      1                      0   \n",
       "3              3              9                      7                      8   \n",
       "4              7             36                      7                     20   \n",
       "\n",
       "   Recommendproduct  ShippingWeight  ProductDepth  ProductWidth  \\\n",
       "0               0.9            25.8         23.94          6.62   \n",
       "1               0.9            50.0         35.00         31.75   \n",
       "2               0.9            17.4         10.50          8.30   \n",
       "3               0.8             5.7         15.00          9.90   \n",
       "4               0.7             7.0         12.90          0.30   \n",
       "\n",
       "   ProductHeight  ProfitMargin  \n",
       "0          16.89          0.15  \n",
       "1          19.00          0.25  \n",
       "2          10.20          0.08  \n",
       "3           1.30          0.08  \n",
       "4           8.90          0.09  "
      ]
     },
     "execution_count": 13,
     "metadata": {},
     "output_type": "execute_result"
    }
   ],
   "source": [
    "X.head()"
   ]
  },
  {
   "cell_type": "code",
   "execution_count": 14,
   "metadata": {},
   "outputs": [],
   "source": [
    "corrMat = X.corr().abs()"
   ]
  },
  {
   "cell_type": "code",
   "execution_count": 15,
   "metadata": {},
   "outputs": [],
   "source": [
    "# Select upper triangle of correlation matrix\n",
    "upper = corrMat.where(np.triu(np.ones(corrMat.shape), k=1).astype(np.bool))"
   ]
  },
  {
   "cell_type": "code",
   "execution_count": 16,
   "metadata": {},
   "outputs": [],
   "source": [
    "# Find index of feature columns with correlation greater than 0.95\n",
    "to_drop = [column for column in upper.columns if any(upper[column] > 0.9)]"
   ]
  },
  {
   "cell_type": "code",
   "execution_count": 17,
   "metadata": {},
   "outputs": [
    {
     "data": {
      "text/plain": [
       "['x3StarReviews', 'x1StarReviews']"
      ]
     },
     "execution_count": 17,
     "metadata": {},
     "output_type": "execute_result"
    }
   ],
   "source": [
    "to_drop"
   ]
  },
  {
   "cell_type": "code",
   "execution_count": 18,
   "metadata": {},
   "outputs": [],
   "source": [
    "X.drop(X[to_drop], axis=1, inplace=True)"
   ]
  },
  {
   "cell_type": "code",
   "execution_count": 19,
   "metadata": {},
   "outputs": [
    {
     "name": "stdout",
     "output_type": "stream",
     "text": [
      "<class 'pandas.core.frame.DataFrame'>\n",
      "RangeIndex: 80 entries, 0 to 79\n",
      "Data columns (total 13 columns):\n",
      "ProductType              80 non-null object\n",
      "Price                    80 non-null float64\n",
      "x5StarReviews            80 non-null int64\n",
      "x4StarReviews            80 non-null int64\n",
      "x2StarReviews            80 non-null int64\n",
      "PositiveServiceReview    80 non-null int64\n",
      "NegativeServiceReview    80 non-null int64\n",
      "Recommendproduct         80 non-null float64\n",
      "ShippingWeight           80 non-null float64\n",
      "ProductDepth             80 non-null float64\n",
      "ProductWidth             80 non-null float64\n",
      "ProductHeight            80 non-null float64\n",
      "ProfitMargin             80 non-null float64\n",
      "dtypes: float64(7), int64(5), object(1)\n",
      "memory usage: 8.2+ KB\n"
     ]
    }
   ],
   "source": [
    "X.info()"
   ]
  },
  {
   "cell_type": "code",
   "execution_count": 20,
   "metadata": {},
   "outputs": [],
   "source": [
    "y = rawData['Volume']"
   ]
  },
  {
   "cell_type": "code",
   "execution_count": 21,
   "metadata": {},
   "outputs": [],
   "source": [
    "# Convert Product Type to numeric value\n",
    "le = LabelEncoder()\n",
    "le.fit(X['ProductType'])\n",
    "X['ProductType'] = le.transform(X['ProductType'])"
   ]
  },
  {
   "cell_type": "code",
   "execution_count": 22,
   "metadata": {},
   "outputs": [
    {
     "name": "stderr",
     "output_type": "stream",
     "text": [
      "C:\\Users\\Annie\\Anaconda3\\lib\\site-packages\\sklearn\\preprocessing\\_encoders.py:392: DeprecationWarning: The 'categorical_features' keyword is deprecated in version 0.20 and will be removed in 0.22. You can use the ColumnTransformer instead.\n",
      "  \"use the ColumnTransformer instead.\", DeprecationWarning)\n"
     ]
    }
   ],
   "source": [
    "cat_columns = ['ProductType']\n",
    "cat_columns_idx = [X.columns.get_loc(col) \n",
    "                   for col in cat_columns]\n",
    "ohe = OneHotEncoder(categorical_features=cat_columns_idx, \n",
    "                    sparse=False, handle_unknown=\"ignore\")\n",
    "X_ohe = ohe.fit_transform(X)"
   ]
  },
  {
   "cell_type": "code",
   "execution_count": 23,
   "metadata": {},
   "outputs": [
    {
     "data": {
      "text/plain": [
       "(80, 24)"
      ]
     },
     "execution_count": 23,
     "metadata": {},
     "output_type": "execute_result"
    }
   ],
   "source": [
    "X_ohe.shape"
   ]
  },
  {
   "cell_type": "markdown",
   "metadata": {},
   "source": [
    "# Establish X / y train & test sets"
   ]
  },
  {
   "cell_type": "code",
   "execution_count": 24,
   "metadata": {},
   "outputs": [],
   "source": [
    "# Original Dataset\n",
    "X_train, X_test, y_train, y_test = train_test_split(\n",
    "    X, y, test_size = .25, random_state  =  123)"
   ]
  },
  {
   "cell_type": "code",
   "execution_count": 25,
   "metadata": {},
   "outputs": [],
   "source": [
    "# One Hot Encoded Dataset\n",
    "X_ohe_train, X_ohe_test, y_train, y_test = train_test_split(\n",
    "    X_ohe, y, test_size = .25, random_state  =  123)"
   ]
  },
  {
   "cell_type": "markdown",
   "metadata": {},
   "source": [
    "# Model"
   ]
  },
  {
   "cell_type": "markdown",
   "metadata": {},
   "source": [
    "## Random Forest"
   ]
  },
  {
   "cell_type": "code",
   "execution_count": 26,
   "metadata": {
    "scrolled": false
   },
   "outputs": [
    {
     "name": "stdout",
     "output_type": "stream",
     "text": [
      "RF - original dataset: 0.85057908\n",
      "RF - OHE dataset: 0.85020923\n"
     ]
    }
   ],
   "source": [
    "# check Random Forest base performance\n",
    "rf = RandomForestRegressor(n_estimators=150)\n",
    "score_rf0 = cross_val_score(rf, X_train, y_train, cv=10)\n",
    "print(\"RF - original dataset: %0.8f\" % score_rf0.mean())\n",
    "score_rf1 = cross_val_score(rf, X_ohe_train, y_train, cv=10)\n",
    "print(\"RF - OHE dataset: %0.8f\" % score_rf1.mean())"
   ]
  },
  {
   "cell_type": "code",
   "execution_count": 27,
   "metadata": {},
   "outputs": [],
   "source": [
    "rf_param_grid = { \n",
    "    'n_estimators': [1, 50, 100, 150, 200, 250, 300]\n",
    "}\n",
    "CV_rf0 = GridSearchCV(estimator=rf, param_grid=rf_param_grid, \n",
    "                      n_jobs=-1, cv=10)\n",
    "CV_rf1 = GridSearchCV(estimator=rf, param_grid=rf_param_grid, \n",
    "                      n_jobs=-1, cv=10)"
   ]
  },
  {
   "cell_type": "code",
   "execution_count": 28,
   "metadata": {},
   "outputs": [
    {
     "name": "stdout",
     "output_type": "stream",
     "text": [
      "Best score - original dataset: 0.85018212\n",
      "Best parameters set - original dataset:\n",
      "{'n_estimators': 150}\n"
     ]
    }
   ],
   "source": [
    "# check best paramters on original dataset\n",
    "CV_rf0.fit(X_train, y_train)\n",
    "print(\"Best score - original dataset: %0.8f\" % CV_rf0.best_score_)\n",
    "print(\"Best parameters set - original dataset:\")\n",
    "print(CV_rf0.best_params_)"
   ]
  },
  {
   "cell_type": "code",
   "execution_count": 29,
   "metadata": {},
   "outputs": [
    {
     "name": "stdout",
     "output_type": "stream",
     "text": [
      "Best score - original dataset: 0.86765220\n",
      "Best parameters set - original dataset:\n",
      "{'n_estimators': 150}\n"
     ]
    }
   ],
   "source": [
    "# check best paramters on original dataset\n",
    "CV_rf1.fit(X_train, y_train)\n",
    "print(\"Best score - original dataset: %0.8f\" % CV_rf1.best_score_)\n",
    "print(\"Best parameters set - original dataset:\")\n",
    "print(CV_rf1.best_params_)"
   ]
  },
  {
   "cell_type": "markdown",
   "metadata": {},
   "source": [
    "## Gradient Boosting"
   ]
  },
  {
   "cell_type": "code",
   "execution_count": 30,
   "metadata": {},
   "outputs": [
    {
     "name": "stdout",
     "output_type": "stream",
     "text": [
      "Gradient Boosting - original dataset: -0.83119095\n",
      "Gradient Boosting - OHE dataset: -0.84681927\n"
     ]
    }
   ],
   "source": [
    "# check Random Forest base performance\n",
    "gb = GradientBoostingRegressor(n_estimators=10)\n",
    "score_gb0 = cross_val_score(gb, X_train, y_train, cv=10)\n",
    "print(\"Gradient Boosting - original dataset: %0.8f\" % score_gb0.mean())\n",
    "score_gb1 = cross_val_score(gb, X_ohe_train, y_train, cv=10)\n",
    "print(\"Gradient Boosting - OHE dataset: %0.8f\" % score_gb1.mean())"
   ]
  },
  {
   "cell_type": "code",
   "execution_count": 31,
   "metadata": {},
   "outputs": [],
   "source": [
    "# Set Up Parameter Tuning\n",
    "gb_param_grid = { \n",
    "    'n_estimators': [50, 100, 150, 200, 250, 300]\n",
    "}\n",
    "CV_gb0 = GridSearchCV(estimator=gb, param_grid=gb_param_grid, \n",
    "                      n_jobs=-1, cv=10)\n",
    "CV_gb1 = GridSearchCV(estimator=gb, param_grid=gb_param_grid, \n",
    "                      n_jobs=-1, cv=10)"
   ]
  },
  {
   "cell_type": "code",
   "execution_count": 32,
   "metadata": {},
   "outputs": [
    {
     "name": "stdout",
     "output_type": "stream",
     "text": [
      "Best score - original dataset: 0.86105224\n",
      "Best parameters set - original dataset:\n",
      "{'n_estimators': 250}\n"
     ]
    }
   ],
   "source": [
    "# check best paramters on original dataset\n",
    "CV_gb0.fit(X_train, y_train)\n",
    "print(\"Best score - original dataset: %0.8f\" % CV_gb0.best_score_)\n",
    "print(\"Best parameters set - original dataset:\")\n",
    "print(CV_gb0.best_params_)"
   ]
  },
  {
   "cell_type": "code",
   "execution_count": 33,
   "metadata": {
    "scrolled": true
   },
   "outputs": [
    {
     "name": "stdout",
     "output_type": "stream",
     "text": [
      "Best score - OHE dataset: 0.89551302\n",
      "Best parameters set - OHE dataset:\n",
      "{'n_estimators': 300}\n"
     ]
    }
   ],
   "source": [
    "# check best paramters on OHE dataset\n",
    "CV_gb1.fit(X_ohe_train, y_train)\n",
    "print(\"Best score - OHE dataset: %0.8f\" % CV_gb1.best_score_)\n",
    "print(\"Best parameters set - OHE dataset:\")\n",
    "print(CV_gb1.best_params_)"
   ]
  },
  {
   "cell_type": "markdown",
   "metadata": {},
   "source": [
    "## SVM"
   ]
  },
  {
   "cell_type": "code",
   "execution_count": 34,
   "metadata": {},
   "outputs": [
    {
     "name": "stdout",
     "output_type": "stream",
     "text": [
      "SVM - original dataset: -1.70038219\n",
      "SVM - OHE dataset: -1.69991228\n"
     ]
    }
   ],
   "source": [
    "# check Random Forest base performance\n",
    "svr = SVR(gamma='auto')\n",
    "score_svr0 = cross_val_score(svr, X_train, y_train, cv=10)\n",
    "print(\"SVM - original dataset: %0.8f\" % score_svr0.mean())\n",
    "score_svr1 = cross_val_score(svr, X_ohe_train, y_train, cv=10)\n",
    "print(\"SVM - OHE dataset: %0.8f\" % score_svr1.mean())"
   ]
  },
  {
   "cell_type": "code",
   "execution_count": 35,
   "metadata": {},
   "outputs": [],
   "source": [
    "svr_param_grid = { \n",
    "    'C': [0.01, 0.1, 1, 10, 100],\n",
    "    'gamma': ['auto', 'scale', 0.001, 0.1, 1, 10]\n",
    "}\n",
    "CV_svr0 = GridSearchCV(estimator=svr, param_grid=svr_param_grid, \n",
    "                      n_jobs=-1, cv=10)\n",
    "CV_svr1 = GridSearchCV(estimator=svr, param_grid=svr_param_grid, \n",
    "                      n_jobs=-1, cv=10)"
   ]
  },
  {
   "cell_type": "code",
   "execution_count": 36,
   "metadata": {},
   "outputs": [
    {
     "name": "stdout",
     "output_type": "stream",
     "text": [
      "Best score - original dataset: 0.45305570\n",
      "Best parameters set - original dataset:\n",
      "{'C': 100, 'gamma': 'scale'}\n"
     ]
    }
   ],
   "source": [
    "# check best paramters on original dataset\n",
    "CV_svr0.fit(X_train, y_train)\n",
    "print(\"Best score - original dataset: %0.8f\" % CV_svr0.best_score_)\n",
    "print(\"Best parameters set - original dataset:\")\n",
    "print(CV_svr0.best_params_)"
   ]
  },
  {
   "cell_type": "code",
   "execution_count": 37,
   "metadata": {},
   "outputs": [
    {
     "name": "stdout",
     "output_type": "stream",
     "text": [
      "Best score - OHE dataset: 0.43239767\n",
      "Best parameters set - OHE dataset:\n",
      "{'C': 100, 'gamma': 'scale'}\n"
     ]
    }
   ],
   "source": [
    "# check best paramters on OHE dataset\n",
    "CV_svr1.fit(X_ohe_train, y_train)\n",
    "print(\"Best score - OHE dataset: %0.8f\" % CV_svr1.best_score_)\n",
    "print(\"Best parameters set - OHE dataset:\")\n",
    "print(CV_svr1.best_params_)"
   ]
  },
  {
   "cell_type": "markdown",
   "metadata": {},
   "source": [
    "# Make Prediction and Check Model Performance"
   ]
  },
  {
   "cell_type": "code",
   "execution_count": 38,
   "metadata": {},
   "outputs": [],
   "source": [
    "y_pred = CV_gb0.predict(X_test)"
   ]
  },
  {
   "cell_type": "code",
   "execution_count": 39,
   "metadata": {},
   "outputs": [],
   "source": [
    "rmse = sqrt(mean_squared_error(y_test, y_pred))"
   ]
  },
  {
   "cell_type": "code",
   "execution_count": 40,
   "metadata": {},
   "outputs": [],
   "source": [
    "predRsquared = r2_score(y_test,y_pred)"
   ]
  },
  {
   "cell_type": "code",
   "execution_count": 41,
   "metadata": {},
   "outputs": [
    {
     "name": "stdout",
     "output_type": "stream",
     "text": [
      "R Squared: 0.93907221\n",
      "RMSE: 380.798\n"
     ]
    }
   ],
   "source": [
    "print('R Squared: %.8f' % predRsquared)\n",
    "print('RMSE: %.3f' % rmse)"
   ]
  },
  {
   "cell_type": "markdown",
   "metadata": {},
   "source": [
    "# Import New Product Dataset & Predict Volume"
   ]
  },
  {
   "cell_type": "code",
   "execution_count": 42,
   "metadata": {},
   "outputs": [],
   "source": [
    "new_prod = pd.read_csv('newproductattributes2017.csv', header =0)\n",
    "newData = new_prod.copy()"
   ]
  },
  {
   "cell_type": "code",
   "execution_count": 43,
   "metadata": {},
   "outputs": [],
   "source": [
    "newData.drop('BestSellersRank', axis=1, inplace=True)"
   ]
  },
  {
   "cell_type": "code",
   "execution_count": 44,
   "metadata": {},
   "outputs": [],
   "source": [
    "newData.drop('ProductNum', axis=1, inplace=True)"
   ]
  },
  {
   "cell_type": "code",
   "execution_count": 45,
   "metadata": {},
   "outputs": [],
   "source": [
    "newData.drop(newData[to_drop], axis=1, inplace=True)"
   ]
  },
  {
   "cell_type": "code",
   "execution_count": 46,
   "metadata": {},
   "outputs": [],
   "source": [
    "newX = newData.iloc[:,0:13]"
   ]
  },
  {
   "cell_type": "code",
   "execution_count": 47,
   "metadata": {},
   "outputs": [],
   "source": [
    "# Convert Product Type to numeric value\n",
    "le.fit(newX['ProductType'])\n",
    "newX['ProductType'] = le.transform(newX['ProductType'])"
   ]
  },
  {
   "cell_type": "code",
   "execution_count": 48,
   "metadata": {},
   "outputs": [],
   "source": [
    "volume = CV_gb0.predict(newX)"
   ]
  },
  {
   "cell_type": "code",
   "execution_count": 49,
   "metadata": {},
   "outputs": [],
   "source": [
    "new_prod['Volume'] = volume"
   ]
  },
  {
   "cell_type": "code",
   "execution_count": 50,
   "metadata": {},
   "outputs": [],
   "source": [
    "new_prod['Profit'] = new_prod['ProfitMargin']*new_prod['Volume']"
   ]
  },
  {
   "cell_type": "code",
   "execution_count": 51,
   "metadata": {},
   "outputs": [
    {
     "data": {
      "text/plain": [
       "count      24.000000\n",
       "mean      106.441112\n",
       "std       224.715953\n",
       "min         0.021357\n",
       "25%         5.916793\n",
       "50%        28.181555\n",
       "75%       112.540490\n",
       "max      1059.981396\n",
       "Name: Profit, dtype: float64"
      ]
     },
     "execution_count": 51,
     "metadata": {},
     "output_type": "execute_result"
    }
   ],
   "source": [
    "new_prod['Profit'].describe()"
   ]
  },
  {
   "cell_type": "code",
   "execution_count": 52,
   "metadata": {},
   "outputs": [],
   "source": [
    "sort_by_profit = new_prod.sort_values('Profit',ascending=False)"
   ]
  },
  {
   "cell_type": "code",
   "execution_count": 53,
   "metadata": {},
   "outputs": [
    {
     "data": {
      "text/html": [
       "<div>\n",
       "<style scoped>\n",
       "    .dataframe tbody tr th:only-of-type {\n",
       "        vertical-align: middle;\n",
       "    }\n",
       "\n",
       "    .dataframe tbody tr th {\n",
       "        vertical-align: top;\n",
       "    }\n",
       "\n",
       "    .dataframe thead th {\n",
       "        text-align: right;\n",
       "    }\n",
       "</style>\n",
       "<table border=\"1\" class=\"dataframe\">\n",
       "  <thead>\n",
       "    <tr style=\"text-align: right;\">\n",
       "      <th></th>\n",
       "      <th>ProductType</th>\n",
       "      <th>ProductNum</th>\n",
       "      <th>Price</th>\n",
       "      <th>x5StarReviews</th>\n",
       "      <th>x4StarReviews</th>\n",
       "      <th>x3StarReviews</th>\n",
       "      <th>x2StarReviews</th>\n",
       "      <th>x1StarReviews</th>\n",
       "      <th>PositiveServiceReview</th>\n",
       "      <th>NegativeServiceReview</th>\n",
       "      <th>Recommendproduct</th>\n",
       "      <th>BestSellersRank</th>\n",
       "      <th>ShippingWeight</th>\n",
       "      <th>ProductDepth</th>\n",
       "      <th>ProductWidth</th>\n",
       "      <th>ProductHeight</th>\n",
       "      <th>ProfitMargin</th>\n",
       "      <th>Volume</th>\n",
       "      <th>Profit</th>\n",
       "    </tr>\n",
       "  </thead>\n",
       "  <tbody>\n",
       "    <tr>\n",
       "      <th>10</th>\n",
       "      <td>Tablet</td>\n",
       "      <td>187</td>\n",
       "      <td>199.00</td>\n",
       "      <td>943</td>\n",
       "      <td>437</td>\n",
       "      <td>224</td>\n",
       "      <td>160</td>\n",
       "      <td>247</td>\n",
       "      <td>90</td>\n",
       "      <td>23</td>\n",
       "      <td>0.8</td>\n",
       "      <td>1</td>\n",
       "      <td>0.9</td>\n",
       "      <td>5.40</td>\n",
       "      <td>7.6</td>\n",
       "      <td>0.40</td>\n",
       "      <td>0.20</td>\n",
       "      <td>5299.906978</td>\n",
       "      <td>1059.981396</td>\n",
       "    </tr>\n",
       "    <tr>\n",
       "      <th>23</th>\n",
       "      <td>GameConsole</td>\n",
       "      <td>307</td>\n",
       "      <td>425.00</td>\n",
       "      <td>1525</td>\n",
       "      <td>252</td>\n",
       "      <td>99</td>\n",
       "      <td>56</td>\n",
       "      <td>45</td>\n",
       "      <td>59</td>\n",
       "      <td>13</td>\n",
       "      <td>0.9</td>\n",
       "      <td>215</td>\n",
       "      <td>20.0</td>\n",
       "      <td>8.50</td>\n",
       "      <td>6.0</td>\n",
       "      <td>1.75</td>\n",
       "      <td>0.18</td>\n",
       "      <td>2054.738559</td>\n",
       "      <td>369.852941</td>\n",
       "    </tr>\n",
       "    <tr>\n",
       "      <th>20</th>\n",
       "      <td>Printer</td>\n",
       "      <td>304</td>\n",
       "      <td>199.99</td>\n",
       "      <td>88</td>\n",
       "      <td>8</td>\n",
       "      <td>3</td>\n",
       "      <td>1</td>\n",
       "      <td>3</td>\n",
       "      <td>5</td>\n",
       "      <td>1</td>\n",
       "      <td>0.8</td>\n",
       "      <td>40</td>\n",
       "      <td>42.0</td>\n",
       "      <td>17.30</td>\n",
       "      <td>23.5</td>\n",
       "      <td>25.80</td>\n",
       "      <td>0.90</td>\n",
       "      <td>338.587507</td>\n",
       "      <td>304.728756</td>\n",
       "    </tr>\n",
       "    <tr>\n",
       "      <th>15</th>\n",
       "      <td>GameConsole</td>\n",
       "      <td>199</td>\n",
       "      <td>249.99</td>\n",
       "      <td>462</td>\n",
       "      <td>97</td>\n",
       "      <td>25</td>\n",
       "      <td>17</td>\n",
       "      <td>58</td>\n",
       "      <td>32</td>\n",
       "      <td>12</td>\n",
       "      <td>0.8</td>\n",
       "      <td>115</td>\n",
       "      <td>8.4</td>\n",
       "      <td>6.20</td>\n",
       "      <td>13.2</td>\n",
       "      <td>13.20</td>\n",
       "      <td>0.09</td>\n",
       "      <td>1895.804217</td>\n",
       "      <td>170.622380</td>\n",
       "    </tr>\n",
       "    <tr>\n",
       "      <th>9</th>\n",
       "      <td>Tablet</td>\n",
       "      <td>186</td>\n",
       "      <td>629.00</td>\n",
       "      <td>296</td>\n",
       "      <td>66</td>\n",
       "      <td>30</td>\n",
       "      <td>21</td>\n",
       "      <td>36</td>\n",
       "      <td>28</td>\n",
       "      <td>9</td>\n",
       "      <td>0.8</td>\n",
       "      <td>34</td>\n",
       "      <td>3.0</td>\n",
       "      <td>7.31</td>\n",
       "      <td>9.5</td>\n",
       "      <td>0.37</td>\n",
       "      <td>0.10</td>\n",
       "      <td>1223.954986</td>\n",
       "      <td>122.395499</td>\n",
       "    </tr>\n",
       "  </tbody>\n",
       "</table>\n",
       "</div>"
      ],
      "text/plain": [
       "    ProductType  ProductNum   Price  x5StarReviews  x4StarReviews  \\\n",
       "10       Tablet         187  199.00            943            437   \n",
       "23  GameConsole         307  425.00           1525            252   \n",
       "20      Printer         304  199.99             88              8   \n",
       "15  GameConsole         199  249.99            462             97   \n",
       "9        Tablet         186  629.00            296             66   \n",
       "\n",
       "    x3StarReviews  x2StarReviews  x1StarReviews  PositiveServiceReview  \\\n",
       "10            224            160            247                     90   \n",
       "23             99             56             45                     59   \n",
       "20              3              1              3                      5   \n",
       "15             25             17             58                     32   \n",
       "9              30             21             36                     28   \n",
       "\n",
       "    NegativeServiceReview  Recommendproduct  BestSellersRank  ShippingWeight  \\\n",
       "10                     23               0.8                1             0.9   \n",
       "23                     13               0.9              215            20.0   \n",
       "20                      1               0.8               40            42.0   \n",
       "15                     12               0.8              115             8.4   \n",
       "9                       9               0.8               34             3.0   \n",
       "\n",
       "    ProductDepth  ProductWidth  ProductHeight  ProfitMargin       Volume  \\\n",
       "10          5.40           7.6           0.40          0.20  5299.906978   \n",
       "23          8.50           6.0           1.75          0.18  2054.738559   \n",
       "20         17.30          23.5          25.80          0.90   338.587507   \n",
       "15          6.20          13.2          13.20          0.09  1895.804217   \n",
       "9           7.31           9.5           0.37          0.10  1223.954986   \n",
       "\n",
       "         Profit  \n",
       "10  1059.981396  \n",
       "23   369.852941  \n",
       "20   304.728756  \n",
       "15   170.622380  \n",
       "9    122.395499  "
      ]
     },
     "execution_count": 53,
     "metadata": {},
     "output_type": "execute_result"
    }
   ],
   "source": [
    "sort_by_profit.head()"
   ]
  },
  {
   "cell_type": "code",
   "execution_count": 54,
   "metadata": {},
   "outputs": [
    {
     "data": {
      "text/plain": [
       "<matplotlib.collections.PathCollection at 0x2eb58b175f8>"
      ]
     },
     "execution_count": 54,
     "metadata": {},
     "output_type": "execute_result"
    },
    {
     "data": {
      "image/png": "[encoded data removed]",
      "text/plain": [
       "<Figure size 432x288 with 1 Axes>"
      ]
     },
     "metadata": {
      "needs_background": "light"
     },
     "output_type": "display_data"
    }
   ],
   "source": [
    "plt.scatter(sort_by_profit['Profit'], sort_by_profit['ProductType'])"
   ]
  }
 ],
 "metadata": {
  "kernelspec": {
   "display_name": "Python 3",
   "language": "python",
   "name": "python3"
  },
  "language_info": {
   "codemirror_mode": {
    "name": "ipython",
    "version": 3
   },
   "file_extension": ".py",
   "mimetype": "text/x-python",
   "name": "python",
   "nbconvert_exporter": "python",
   "pygments_lexer": "ipython3",
   "version": "3.7.3"
  }
 },
 "nbformat": 4,
 "nbformat_minor": 2
}
