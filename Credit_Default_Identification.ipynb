{
 "cells": [
  {
   "cell_type": "markdown",
   "metadata": {},
   "source": [
    "# Import Libraries"
   ]
  },
  {
   "cell_type": "code",
   "execution_count": 1,
   "metadata": {},
   "outputs": [],
   "source": [
    "import numpy as np\n",
    "import pandas as pd\n",
    "import scipy\n",
    "from math import sqrt\n",
    "import matplotlib.pyplot as plt\n",
    "import seaborn as sns\n",
    "\n",
    "# pre-processing & feature selection\n",
    "# from sklearn import preprocessing\n",
    "from sklearn.preprocessing import OneHotEncoder\n",
    "from sklearn.feature_selection import RFE\n",
    "from sklearn.decomposition import PCA\n",
    "\n",
    "# estimators\n",
    "from sklearn.ensemble import RandomForestClassifier\n",
    "from sklearn import tree\n",
    "from sklearn.svm import SVC\n",
    "from sklearn.neighbors import KNeighborsClassifier\n",
    "\n",
    "# model metrics\n",
    "from sklearn.metrics import classification_report\n",
    "from sklearn.metrics import confusion_matrix\n",
    "from sklearn.metrics import accuracy_score\n",
    "from sklearn.metrics import balanced_accuracy_score\n",
    "from sklearn.model_selection import cross_val_score\n",
    "\n",
    "# cross validation\n",
    "from sklearn.model_selection import train_test_split\n",
    "\n",
    "# parameter tuning\n",
    "from sklearn.model_selection import GridSearchCV"
   ]
  },
  {
   "cell_type": "code",
   "execution_count": 2,
   "metadata": {},
   "outputs": [],
   "source": [
    "orig = pd.read_csv('credits_updated.csv', header =0)"
   ]
  },
  {
   "cell_type": "code",
   "execution_count": 3,
   "metadata": {},
   "outputs": [],
   "source": [
    "# create a working copy of the data\n",
    "rawData = orig.copy()"
   ]
  },
  {
   "cell_type": "code",
   "execution_count": 4,
   "metadata": {},
   "outputs": [
    {
     "data": {
      "text/html": [
       "<div>\n",
       "<style scoped>\n",
       "    .dataframe tbody tr th:only-of-type {\n",
       "        vertical-align: middle;\n",
       "    }\n",
       "\n",
       "    .dataframe tbody tr th {\n",
       "        vertical-align: top;\n",
       "    }\n",
       "\n",
       "    .dataframe thead th {\n",
       "        text-align: right;\n",
       "    }\n",
       "</style>\n",
       "<table border=\"1\" class=\"dataframe\">\n",
       "  <thead>\n",
       "    <tr style=\"text-align: right;\">\n",
       "      <th></th>\n",
       "      <th>ID</th>\n",
       "      <th>LIMIT_BAL</th>\n",
       "      <th>SEX</th>\n",
       "      <th>EDUCATION</th>\n",
       "      <th>MARRIAGE</th>\n",
       "      <th>AGE</th>\n",
       "      <th>PAY_0</th>\n",
       "      <th>PAY_2</th>\n",
       "      <th>PAY_3</th>\n",
       "      <th>PAY_4</th>\n",
       "      <th>...</th>\n",
       "      <th>BILL_AMT6</th>\n",
       "      <th>PAY_AMT1</th>\n",
       "      <th>PAY_AMT2</th>\n",
       "      <th>PAY_AMT3</th>\n",
       "      <th>PAY_AMT4</th>\n",
       "      <th>PAY_AMT5</th>\n",
       "      <th>PAY_AMT6</th>\n",
       "      <th>default payment next month</th>\n",
       "      <th>Limit_Bins</th>\n",
       "      <th>Age_Bins</th>\n",
       "    </tr>\n",
       "  </thead>\n",
       "  <tbody>\n",
       "    <tr>\n",
       "      <th>0</th>\n",
       "      <td>1</td>\n",
       "      <td>20000</td>\n",
       "      <td>2</td>\n",
       "      <td>2</td>\n",
       "      <td>1</td>\n",
       "      <td>24</td>\n",
       "      <td>2</td>\n",
       "      <td>2</td>\n",
       "      <td>-1</td>\n",
       "      <td>-1</td>\n",
       "      <td>...</td>\n",
       "      <td>0</td>\n",
       "      <td>0</td>\n",
       "      <td>689</td>\n",
       "      <td>0</td>\n",
       "      <td>0</td>\n",
       "      <td>0</td>\n",
       "      <td>0</td>\n",
       "      <td>1</td>\n",
       "      <td>1</td>\n",
       "      <td>1</td>\n",
       "    </tr>\n",
       "    <tr>\n",
       "      <th>1</th>\n",
       "      <td>2</td>\n",
       "      <td>120000</td>\n",
       "      <td>2</td>\n",
       "      <td>2</td>\n",
       "      <td>2</td>\n",
       "      <td>26</td>\n",
       "      <td>-1</td>\n",
       "      <td>2</td>\n",
       "      <td>0</td>\n",
       "      <td>0</td>\n",
       "      <td>...</td>\n",
       "      <td>3261</td>\n",
       "      <td>0</td>\n",
       "      <td>1000</td>\n",
       "      <td>1000</td>\n",
       "      <td>1000</td>\n",
       "      <td>0</td>\n",
       "      <td>2000</td>\n",
       "      <td>1</td>\n",
       "      <td>2</td>\n",
       "      <td>1</td>\n",
       "    </tr>\n",
       "    <tr>\n",
       "      <th>2</th>\n",
       "      <td>3</td>\n",
       "      <td>90000</td>\n",
       "      <td>2</td>\n",
       "      <td>2</td>\n",
       "      <td>2</td>\n",
       "      <td>34</td>\n",
       "      <td>0</td>\n",
       "      <td>0</td>\n",
       "      <td>0</td>\n",
       "      <td>0</td>\n",
       "      <td>...</td>\n",
       "      <td>15549</td>\n",
       "      <td>1518</td>\n",
       "      <td>1500</td>\n",
       "      <td>1000</td>\n",
       "      <td>1000</td>\n",
       "      <td>1000</td>\n",
       "      <td>5000</td>\n",
       "      <td>0</td>\n",
       "      <td>1</td>\n",
       "      <td>2</td>\n",
       "    </tr>\n",
       "    <tr>\n",
       "      <th>3</th>\n",
       "      <td>4</td>\n",
       "      <td>50000</td>\n",
       "      <td>2</td>\n",
       "      <td>2</td>\n",
       "      <td>1</td>\n",
       "      <td>37</td>\n",
       "      <td>0</td>\n",
       "      <td>0</td>\n",
       "      <td>0</td>\n",
       "      <td>0</td>\n",
       "      <td>...</td>\n",
       "      <td>29547</td>\n",
       "      <td>2000</td>\n",
       "      <td>2019</td>\n",
       "      <td>1200</td>\n",
       "      <td>1100</td>\n",
       "      <td>1069</td>\n",
       "      <td>1000</td>\n",
       "      <td>0</td>\n",
       "      <td>1</td>\n",
       "      <td>2</td>\n",
       "    </tr>\n",
       "    <tr>\n",
       "      <th>4</th>\n",
       "      <td>5</td>\n",
       "      <td>50000</td>\n",
       "      <td>1</td>\n",
       "      <td>2</td>\n",
       "      <td>1</td>\n",
       "      <td>57</td>\n",
       "      <td>-1</td>\n",
       "      <td>0</td>\n",
       "      <td>-1</td>\n",
       "      <td>0</td>\n",
       "      <td>...</td>\n",
       "      <td>19131</td>\n",
       "      <td>2000</td>\n",
       "      <td>36681</td>\n",
       "      <td>10000</td>\n",
       "      <td>9000</td>\n",
       "      <td>689</td>\n",
       "      <td>679</td>\n",
       "      <td>0</td>\n",
       "      <td>1</td>\n",
       "      <td>4</td>\n",
       "    </tr>\n",
       "  </tbody>\n",
       "</table>\n",
       "<p>5 rows × 27 columns</p>\n",
       "</div>"
      ],
      "text/plain": [
       "   ID  LIMIT_BAL  SEX  EDUCATION  MARRIAGE  AGE  PAY_0  PAY_2  PAY_3  PAY_4  \\\n",
       "0   1      20000    2          2         1   24      2      2     -1     -1   \n",
       "1   2     120000    2          2         2   26     -1      2      0      0   \n",
       "2   3      90000    2          2         2   34      0      0      0      0   \n",
       "3   4      50000    2          2         1   37      0      0      0      0   \n",
       "4   5      50000    1          2         1   57     -1      0     -1      0   \n",
       "\n",
       "   ...  BILL_AMT6  PAY_AMT1  PAY_AMT2  PAY_AMT3  PAY_AMT4  PAY_AMT5  PAY_AMT6  \\\n",
       "0  ...          0         0       689         0         0         0         0   \n",
       "1  ...       3261         0      1000      1000      1000         0      2000   \n",
       "2  ...      15549      1518      1500      1000      1000      1000      5000   \n",
       "3  ...      29547      2000      2019      1200      1100      1069      1000   \n",
       "4  ...      19131      2000     36681     10000      9000       689       679   \n",
       "\n",
       "   default payment next month  Limit_Bins  Age_Bins  \n",
       "0                           1           1         1  \n",
       "1                           1           2         1  \n",
       "2                           0           1         2  \n",
       "3                           0           1         2  \n",
       "4                           0           1         4  \n",
       "\n",
       "[5 rows x 27 columns]"
      ]
     },
     "execution_count": 4,
     "metadata": {},
     "output_type": "execute_result"
    }
   ],
   "source": [
    "rawData.head()"
   ]
  },
  {
   "cell_type": "code",
   "execution_count": 5,
   "metadata": {},
   "outputs": [
    {
     "name": "stdout",
     "output_type": "stream",
     "text": [
      "<class 'pandas.core.frame.DataFrame'>\n",
      "RangeIndex: 30000 entries, 0 to 29999\n",
      "Data columns (total 27 columns):\n",
      "ID                            30000 non-null int64\n",
      "LIMIT_BAL                     30000 non-null int64\n",
      "SEX                           30000 non-null int64\n",
      "EDUCATION                     30000 non-null int64\n",
      "MARRIAGE                      30000 non-null int64\n",
      "AGE                           30000 non-null int64\n",
      "PAY_0                         30000 non-null int64\n",
      "PAY_2                         30000 non-null int64\n",
      "PAY_3                         30000 non-null int64\n",
      "PAY_4                         30000 non-null int64\n",
      "PAY_5                         30000 non-null int64\n",
      "PAY_6                         30000 non-null int64\n",
      "BILL_AMT1                     30000 non-null int64\n",
      "BILL_AMT2                     30000 non-null int64\n",
      "BILL_AMT3                     30000 non-null int64\n",
      "BILL_AMT4                     30000 non-null int64\n",
      "BILL_AMT5                     30000 non-null int64\n",
      "BILL_AMT6                     30000 non-null int64\n",
      "PAY_AMT1                      30000 non-null int64\n",
      "PAY_AMT2                      30000 non-null int64\n",
      "PAY_AMT3                      30000 non-null int64\n",
      "PAY_AMT4                      30000 non-null int64\n",
      "PAY_AMT5                      30000 non-null int64\n",
      "PAY_AMT6                      30000 non-null int64\n",
      "default payment next month    30000 non-null int64\n",
      "Limit_Bins                    30000 non-null int64\n",
      "Age_Bins                      30000 non-null int64\n",
      "dtypes: int64(27)\n",
      "memory usage: 6.2 MB\n"
     ]
    }
   ],
   "source": [
    "rawData.info()"
   ]
  },
  {
   "cell_type": "markdown",
   "metadata": {},
   "source": [
    "# Select Features & Dependent Variable"
   ]
  },
  {
   "cell_type": "code",
   "execution_count": 6,
   "metadata": {},
   "outputs": [],
   "source": [
    "X = rawData.iloc[:,1:24]"
   ]
  },
  {
   "cell_type": "code",
   "execution_count": 7,
   "metadata": {
    "scrolled": true
   },
   "outputs": [
    {
     "data": {
      "text/html": [
       "<div>\n",
       "<style scoped>\n",
       "    .dataframe tbody tr th:only-of-type {\n",
       "        vertical-align: middle;\n",
       "    }\n",
       "\n",
       "    .dataframe tbody tr th {\n",
       "        vertical-align: top;\n",
       "    }\n",
       "\n",
       "    .dataframe thead th {\n",
       "        text-align: right;\n",
       "    }\n",
       "</style>\n",
       "<table border=\"1\" class=\"dataframe\">\n",
       "  <thead>\n",
       "    <tr style=\"text-align: right;\">\n",
       "      <th></th>\n",
       "      <th>LIMIT_BAL</th>\n",
       "      <th>SEX</th>\n",
       "      <th>EDUCATION</th>\n",
       "      <th>MARRIAGE</th>\n",
       "      <th>AGE</th>\n",
       "      <th>PAY_0</th>\n",
       "      <th>PAY_2</th>\n",
       "      <th>PAY_3</th>\n",
       "      <th>PAY_4</th>\n",
       "      <th>PAY_5</th>\n",
       "      <th>...</th>\n",
       "      <th>BILL_AMT3</th>\n",
       "      <th>BILL_AMT4</th>\n",
       "      <th>BILL_AMT5</th>\n",
       "      <th>BILL_AMT6</th>\n",
       "      <th>PAY_AMT1</th>\n",
       "      <th>PAY_AMT2</th>\n",
       "      <th>PAY_AMT3</th>\n",
       "      <th>PAY_AMT4</th>\n",
       "      <th>PAY_AMT5</th>\n",
       "      <th>PAY_AMT6</th>\n",
       "    </tr>\n",
       "  </thead>\n",
       "  <tbody>\n",
       "    <tr>\n",
       "      <th>0</th>\n",
       "      <td>20000</td>\n",
       "      <td>2</td>\n",
       "      <td>2</td>\n",
       "      <td>1</td>\n",
       "      <td>24</td>\n",
       "      <td>2</td>\n",
       "      <td>2</td>\n",
       "      <td>-1</td>\n",
       "      <td>-1</td>\n",
       "      <td>-2</td>\n",
       "      <td>...</td>\n",
       "      <td>689</td>\n",
       "      <td>0</td>\n",
       "      <td>0</td>\n",
       "      <td>0</td>\n",
       "      <td>0</td>\n",
       "      <td>689</td>\n",
       "      <td>0</td>\n",
       "      <td>0</td>\n",
       "      <td>0</td>\n",
       "      <td>0</td>\n",
       "    </tr>\n",
       "    <tr>\n",
       "      <th>1</th>\n",
       "      <td>120000</td>\n",
       "      <td>2</td>\n",
       "      <td>2</td>\n",
       "      <td>2</td>\n",
       "      <td>26</td>\n",
       "      <td>-1</td>\n",
       "      <td>2</td>\n",
       "      <td>0</td>\n",
       "      <td>0</td>\n",
       "      <td>0</td>\n",
       "      <td>...</td>\n",
       "      <td>2682</td>\n",
       "      <td>3272</td>\n",
       "      <td>3455</td>\n",
       "      <td>3261</td>\n",
       "      <td>0</td>\n",
       "      <td>1000</td>\n",
       "      <td>1000</td>\n",
       "      <td>1000</td>\n",
       "      <td>0</td>\n",
       "      <td>2000</td>\n",
       "    </tr>\n",
       "    <tr>\n",
       "      <th>2</th>\n",
       "      <td>90000</td>\n",
       "      <td>2</td>\n",
       "      <td>2</td>\n",
       "      <td>2</td>\n",
       "      <td>34</td>\n",
       "      <td>0</td>\n",
       "      <td>0</td>\n",
       "      <td>0</td>\n",
       "      <td>0</td>\n",
       "      <td>0</td>\n",
       "      <td>...</td>\n",
       "      <td>13559</td>\n",
       "      <td>14331</td>\n",
       "      <td>14948</td>\n",
       "      <td>15549</td>\n",
       "      <td>1518</td>\n",
       "      <td>1500</td>\n",
       "      <td>1000</td>\n",
       "      <td>1000</td>\n",
       "      <td>1000</td>\n",
       "      <td>5000</td>\n",
       "    </tr>\n",
       "    <tr>\n",
       "      <th>3</th>\n",
       "      <td>50000</td>\n",
       "      <td>2</td>\n",
       "      <td>2</td>\n",
       "      <td>1</td>\n",
       "      <td>37</td>\n",
       "      <td>0</td>\n",
       "      <td>0</td>\n",
       "      <td>0</td>\n",
       "      <td>0</td>\n",
       "      <td>0</td>\n",
       "      <td>...</td>\n",
       "      <td>49291</td>\n",
       "      <td>28314</td>\n",
       "      <td>28959</td>\n",
       "      <td>29547</td>\n",
       "      <td>2000</td>\n",
       "      <td>2019</td>\n",
       "      <td>1200</td>\n",
       "      <td>1100</td>\n",
       "      <td>1069</td>\n",
       "      <td>1000</td>\n",
       "    </tr>\n",
       "    <tr>\n",
       "      <th>4</th>\n",
       "      <td>50000</td>\n",
       "      <td>1</td>\n",
       "      <td>2</td>\n",
       "      <td>1</td>\n",
       "      <td>57</td>\n",
       "      <td>-1</td>\n",
       "      <td>0</td>\n",
       "      <td>-1</td>\n",
       "      <td>0</td>\n",
       "      <td>0</td>\n",
       "      <td>...</td>\n",
       "      <td>35835</td>\n",
       "      <td>20940</td>\n",
       "      <td>19146</td>\n",
       "      <td>19131</td>\n",
       "      <td>2000</td>\n",
       "      <td>36681</td>\n",
       "      <td>10000</td>\n",
       "      <td>9000</td>\n",
       "      <td>689</td>\n",
       "      <td>679</td>\n",
       "    </tr>\n",
       "  </tbody>\n",
       "</table>\n",
       "<p>5 rows × 23 columns</p>\n",
       "</div>"
      ],
      "text/plain": [
       "   LIMIT_BAL  SEX  EDUCATION  MARRIAGE  AGE  PAY_0  PAY_2  PAY_3  PAY_4  \\\n",
       "0      20000    2          2         1   24      2      2     -1     -1   \n",
       "1     120000    2          2         2   26     -1      2      0      0   \n",
       "2      90000    2          2         2   34      0      0      0      0   \n",
       "3      50000    2          2         1   37      0      0      0      0   \n",
       "4      50000    1          2         1   57     -1      0     -1      0   \n",
       "\n",
       "   PAY_5  ...  BILL_AMT3  BILL_AMT4  BILL_AMT5  BILL_AMT6  PAY_AMT1  PAY_AMT2  \\\n",
       "0     -2  ...        689          0          0          0         0       689   \n",
       "1      0  ...       2682       3272       3455       3261         0      1000   \n",
       "2      0  ...      13559      14331      14948      15549      1518      1500   \n",
       "3      0  ...      49291      28314      28959      29547      2000      2019   \n",
       "4      0  ...      35835      20940      19146      19131      2000     36681   \n",
       "\n",
       "   PAY_AMT3  PAY_AMT4  PAY_AMT5  PAY_AMT6  \n",
       "0         0         0         0         0  \n",
       "1      1000      1000         0      2000  \n",
       "2      1000      1000      1000      5000  \n",
       "3      1200      1100      1069      1000  \n",
       "4     10000      9000       689       679  \n",
       "\n",
       "[5 rows x 23 columns]"
      ]
     },
     "execution_count": 7,
     "metadata": {},
     "output_type": "execute_result"
    }
   ],
   "source": [
    "X.head()"
   ]
  },
  {
   "cell_type": "code",
   "execution_count": 8,
   "metadata": {},
   "outputs": [],
   "source": [
    "y = rawData['default payment next month']"
   ]
  },
  {
   "cell_type": "markdown",
   "metadata": {},
   "source": [
    "## Feature Engineering"
   ]
  },
  {
   "cell_type": "markdown",
   "metadata": {},
   "source": [
    "### OneHotEncode SEX, EDUCATION, MARRIAGE"
   ]
  },
  {
   "cell_type": "code",
   "execution_count": 9,
   "metadata": {},
   "outputs": [],
   "source": [
    "cat_columns = [\"SEX\", \"EDUCATION\", \"MARRIAGE\"]"
   ]
  },
  {
   "cell_type": "code",
   "execution_count": 10,
   "metadata": {},
   "outputs": [],
   "source": [
    "cat_columns_idx = [X.columns.get_loc(col) \n",
    "                   for col in cat_columns]"
   ]
  },
  {
   "cell_type": "code",
   "execution_count": 11,
   "metadata": {},
   "outputs": [
    {
     "name": "stderr",
     "output_type": "stream",
     "text": [
      "C:\\Users\\Annie\\Anaconda3\\lib\\site-packages\\sklearn\\preprocessing\\_encoders.py:392: DeprecationWarning: The 'categorical_features' keyword is deprecated in version 0.20 and will be removed in 0.22. You can use the ColumnTransformer instead.\n",
      "  \"use the ColumnTransformer instead.\", DeprecationWarning)\n"
     ]
    }
   ],
   "source": [
    "ohe = OneHotEncoder(categorical_features=cat_columns_idx, \n",
    "                    sparse=False, handle_unknown=\"ignore\")\n",
    "X_ohe = ohe.fit_transform(X)"
   ]
  },
  {
   "cell_type": "markdown",
   "metadata": {},
   "source": [
    "## Discretize LIMIT_BAL & AGE"
   ]
  },
  {
   "cell_type": "code",
   "execution_count": 12,
   "metadata": {},
   "outputs": [],
   "source": [
    "rawData_dis = rawData.copy()\n",
    "rawData_dis['LIMIT_BAL'] = rawData['Limit_Bins']\n",
    "rawData_dis['AGE'] = rawData['Age_Bins']\n",
    "X_dis = rawData_dis.iloc[:,1:24]"
   ]
  },
  {
   "cell_type": "code",
   "execution_count": 13,
   "metadata": {
    "scrolled": false
   },
   "outputs": [
    {
     "data": {
      "text/html": [
       "<div>\n",
       "<style scoped>\n",
       "    .dataframe tbody tr th:only-of-type {\n",
       "        vertical-align: middle;\n",
       "    }\n",
       "\n",
       "    .dataframe tbody tr th {\n",
       "        vertical-align: top;\n",
       "    }\n",
       "\n",
       "    .dataframe thead th {\n",
       "        text-align: right;\n",
       "    }\n",
       "</style>\n",
       "<table border=\"1\" class=\"dataframe\">\n",
       "  <thead>\n",
       "    <tr style=\"text-align: right;\">\n",
       "      <th></th>\n",
       "      <th>LIMIT_BAL</th>\n",
       "      <th>SEX</th>\n",
       "      <th>EDUCATION</th>\n",
       "      <th>MARRIAGE</th>\n",
       "      <th>AGE</th>\n",
       "      <th>PAY_0</th>\n",
       "      <th>PAY_2</th>\n",
       "      <th>PAY_3</th>\n",
       "      <th>PAY_4</th>\n",
       "      <th>PAY_5</th>\n",
       "      <th>...</th>\n",
       "      <th>BILL_AMT3</th>\n",
       "      <th>BILL_AMT4</th>\n",
       "      <th>BILL_AMT5</th>\n",
       "      <th>BILL_AMT6</th>\n",
       "      <th>PAY_AMT1</th>\n",
       "      <th>PAY_AMT2</th>\n",
       "      <th>PAY_AMT3</th>\n",
       "      <th>PAY_AMT4</th>\n",
       "      <th>PAY_AMT5</th>\n",
       "      <th>PAY_AMT6</th>\n",
       "    </tr>\n",
       "  </thead>\n",
       "  <tbody>\n",
       "    <tr>\n",
       "      <th>0</th>\n",
       "      <td>1</td>\n",
       "      <td>2</td>\n",
       "      <td>2</td>\n",
       "      <td>1</td>\n",
       "      <td>1</td>\n",
       "      <td>2</td>\n",
       "      <td>2</td>\n",
       "      <td>-1</td>\n",
       "      <td>-1</td>\n",
       "      <td>-2</td>\n",
       "      <td>...</td>\n",
       "      <td>689</td>\n",
       "      <td>0</td>\n",
       "      <td>0</td>\n",
       "      <td>0</td>\n",
       "      <td>0</td>\n",
       "      <td>689</td>\n",
       "      <td>0</td>\n",
       "      <td>0</td>\n",
       "      <td>0</td>\n",
       "      <td>0</td>\n",
       "    </tr>\n",
       "    <tr>\n",
       "      <th>1</th>\n",
       "      <td>2</td>\n",
       "      <td>2</td>\n",
       "      <td>2</td>\n",
       "      <td>2</td>\n",
       "      <td>1</td>\n",
       "      <td>-1</td>\n",
       "      <td>2</td>\n",
       "      <td>0</td>\n",
       "      <td>0</td>\n",
       "      <td>0</td>\n",
       "      <td>...</td>\n",
       "      <td>2682</td>\n",
       "      <td>3272</td>\n",
       "      <td>3455</td>\n",
       "      <td>3261</td>\n",
       "      <td>0</td>\n",
       "      <td>1000</td>\n",
       "      <td>1000</td>\n",
       "      <td>1000</td>\n",
       "      <td>0</td>\n",
       "      <td>2000</td>\n",
       "    </tr>\n",
       "    <tr>\n",
       "      <th>2</th>\n",
       "      <td>1</td>\n",
       "      <td>2</td>\n",
       "      <td>2</td>\n",
       "      <td>2</td>\n",
       "      <td>2</td>\n",
       "      <td>0</td>\n",
       "      <td>0</td>\n",
       "      <td>0</td>\n",
       "      <td>0</td>\n",
       "      <td>0</td>\n",
       "      <td>...</td>\n",
       "      <td>13559</td>\n",
       "      <td>14331</td>\n",
       "      <td>14948</td>\n",
       "      <td>15549</td>\n",
       "      <td>1518</td>\n",
       "      <td>1500</td>\n",
       "      <td>1000</td>\n",
       "      <td>1000</td>\n",
       "      <td>1000</td>\n",
       "      <td>5000</td>\n",
       "    </tr>\n",
       "    <tr>\n",
       "      <th>3</th>\n",
       "      <td>1</td>\n",
       "      <td>2</td>\n",
       "      <td>2</td>\n",
       "      <td>1</td>\n",
       "      <td>2</td>\n",
       "      <td>0</td>\n",
       "      <td>0</td>\n",
       "      <td>0</td>\n",
       "      <td>0</td>\n",
       "      <td>0</td>\n",
       "      <td>...</td>\n",
       "      <td>49291</td>\n",
       "      <td>28314</td>\n",
       "      <td>28959</td>\n",
       "      <td>29547</td>\n",
       "      <td>2000</td>\n",
       "      <td>2019</td>\n",
       "      <td>1200</td>\n",
       "      <td>1100</td>\n",
       "      <td>1069</td>\n",
       "      <td>1000</td>\n",
       "    </tr>\n",
       "    <tr>\n",
       "      <th>4</th>\n",
       "      <td>1</td>\n",
       "      <td>1</td>\n",
       "      <td>2</td>\n",
       "      <td>1</td>\n",
       "      <td>4</td>\n",
       "      <td>-1</td>\n",
       "      <td>0</td>\n",
       "      <td>-1</td>\n",
       "      <td>0</td>\n",
       "      <td>0</td>\n",
       "      <td>...</td>\n",
       "      <td>35835</td>\n",
       "      <td>20940</td>\n",
       "      <td>19146</td>\n",
       "      <td>19131</td>\n",
       "      <td>2000</td>\n",
       "      <td>36681</td>\n",
       "      <td>10000</td>\n",
       "      <td>9000</td>\n",
       "      <td>689</td>\n",
       "      <td>679</td>\n",
       "    </tr>\n",
       "  </tbody>\n",
       "</table>\n",
       "<p>5 rows × 23 columns</p>\n",
       "</div>"
      ],
      "text/plain": [
       "   LIMIT_BAL  SEX  EDUCATION  MARRIAGE  AGE  PAY_0  PAY_2  PAY_3  PAY_4  \\\n",
       "0          1    2          2         1    1      2      2     -1     -1   \n",
       "1          2    2          2         2    1     -1      2      0      0   \n",
       "2          1    2          2         2    2      0      0      0      0   \n",
       "3          1    2          2         1    2      0      0      0      0   \n",
       "4          1    1          2         1    4     -1      0     -1      0   \n",
       "\n",
       "   PAY_5  ...  BILL_AMT3  BILL_AMT4  BILL_AMT5  BILL_AMT6  PAY_AMT1  PAY_AMT2  \\\n",
       "0     -2  ...        689          0          0          0         0       689   \n",
       "1      0  ...       2682       3272       3455       3261         0      1000   \n",
       "2      0  ...      13559      14331      14948      15549      1518      1500   \n",
       "3      0  ...      49291      28314      28959      29547      2000      2019   \n",
       "4      0  ...      35835      20940      19146      19131      2000     36681   \n",
       "\n",
       "   PAY_AMT3  PAY_AMT4  PAY_AMT5  PAY_AMT6  \n",
       "0         0         0         0         0  \n",
       "1      1000      1000         0      2000  \n",
       "2      1000      1000      1000      5000  \n",
       "3      1200      1100      1069      1000  \n",
       "4     10000      9000       689       679  \n",
       "\n",
       "[5 rows x 23 columns]"
      ]
     },
     "execution_count": 13,
     "metadata": {},
     "output_type": "execute_result"
    }
   ],
   "source": [
    "X_dis.head()"
   ]
  },
  {
   "cell_type": "markdown",
   "metadata": {},
   "source": [
    "### OneHotEncode SEX, EDUCATION, MARRIAGE, LIMIT_BAL, AGE"
   ]
  },
  {
   "cell_type": "code",
   "execution_count": 14,
   "metadata": {},
   "outputs": [],
   "source": [
    "cat_columns_dis = [\"LIMIT_BAL\", \"SEX\", \"EDUCATION\", \"MARRIAGE\", \"AGE\"]"
   ]
  },
  {
   "cell_type": "code",
   "execution_count": 15,
   "metadata": {},
   "outputs": [],
   "source": [
    "cat_columns_dis_idx = [X_dis.columns.get_loc(col) \n",
    "                   for col in cat_columns_dis]"
   ]
  },
  {
   "cell_type": "code",
   "execution_count": 16,
   "metadata": {},
   "outputs": [
    {
     "name": "stderr",
     "output_type": "stream",
     "text": [
      "C:\\Users\\Annie\\Anaconda3\\lib\\site-packages\\sklearn\\preprocessing\\_encoders.py:392: DeprecationWarning: The 'categorical_features' keyword is deprecated in version 0.20 and will be removed in 0.22. You can use the ColumnTransformer instead.\n",
      "  \"use the ColumnTransformer instead.\", DeprecationWarning)\n"
     ]
    }
   ],
   "source": [
    "dis_ohe = OneHotEncoder(categorical_features=cat_columns_dis_idx, \n",
    "                    sparse=False, handle_unknown=\"ignore\")\n",
    "X_dis_ohe = dis_ohe.fit_transform(X_dis)"
   ]
  },
  {
   "cell_type": "markdown",
   "metadata": {},
   "source": [
    "## Principle Component Analysis"
   ]
  },
  {
   "cell_type": "code",
   "execution_count": 17,
   "metadata": {},
   "outputs": [],
   "source": [
    "pca = PCA(n_components=2)\n",
    "X_pca = pca.fit(X).transform(X)"
   ]
  },
  {
   "cell_type": "code",
   "execution_count": 18,
   "metadata": {},
   "outputs": [
    {
     "data": {
      "text/plain": [
       "array([[-166488.19108566,  -75538.15366417],\n",
       "       [-114226.97681653,    9780.67125058],\n",
       "       [ -98432.36218052,  -33471.38733069],\n",
       "       ...,\n",
       "       [-140206.12804809,  -77857.49653957],\n",
       "       [ -41427.74077383,  -74908.30367179],\n",
       "       [ -70860.31120885,  -95514.14430938]])"
      ]
     },
     "execution_count": 18,
     "metadata": {},
     "output_type": "execute_result"
    }
   ],
   "source": [
    "X_pca"
   ]
  },
  {
   "cell_type": "markdown",
   "metadata": {},
   "source": [
    "# Establish X / y train & test sets"
   ]
  },
  {
   "cell_type": "code",
   "execution_count": 19,
   "metadata": {},
   "outputs": [],
   "source": [
    "# Original Dataset\n",
    "X_train, X_test, y_train, y_test = train_test_split(\n",
    "    X, y, test_size = .25, random_state  =  123)"
   ]
  },
  {
   "cell_type": "code",
   "execution_count": 20,
   "metadata": {},
   "outputs": [],
   "source": [
    "# One Hot Encoded Dataset\n",
    "X_ohe_train, X_ohe_test, y_train, y_test = train_test_split(\n",
    "    X_ohe, y, test_size = .25, random_state  =  123)"
   ]
  },
  {
   "cell_type": "code",
   "execution_count": 21,
   "metadata": {},
   "outputs": [],
   "source": [
    "# Discretized & One Hot Encoded Dataset\n",
    "X_dis_train, X_dis_test, y_train, y_test = train_test_split(\n",
    "    X_dis_ohe, y, test_size = .25, random_state  =  123)"
   ]
  },
  {
   "cell_type": "code",
   "execution_count": 22,
   "metadata": {},
   "outputs": [],
   "source": [
    "# PCA Dataset\n",
    "X_pca_train, X_pca_test, y_train, y_test = train_test_split(\n",
    "    X_pca, y, test_size = .25, random_state  =  123)"
   ]
  },
  {
   "cell_type": "markdown",
   "metadata": {},
   "source": [
    "# Model"
   ]
  },
  {
   "cell_type": "markdown",
   "metadata": {},
   "source": [
    "## k-Nearest Neighbor"
   ]
  },
  {
   "cell_type": "code",
   "execution_count": 23,
   "metadata": {},
   "outputs": [
    {
     "name": "stdout",
     "output_type": "stream",
     "text": [
      "kNN - original dataset: 0.75271098\n",
      "kNN - OHE dataset: 0.75288876\n",
      "kNN - Discretized OHE dataset: 0.76097771\n",
      "kNN - PCA dataset: 0.73551140\n"
     ]
    }
   ],
   "source": [
    "# check kNN model base performance\n",
    "knn=KNeighborsClassifier()\n",
    "score_knn0 = cross_val_score(knn, X_train, y_train, cv=10)\n",
    "print(\"kNN - original dataset: %0.8f\" % score_knn0.mean())\n",
    "score_knn1 = cross_val_score(knn, X_ohe_train, y_train, cv=10)\n",
    "print(\"kNN - OHE dataset: %0.8f\" % score_knn1.mean())\n",
    "score_knn2 = cross_val_score(knn, X_dis_train, y_train, cv=10)\n",
    "print(\"kNN - Discretized OHE dataset: %0.8f\" % score_knn2.mean())\n",
    "score_knn3 = cross_val_score(knn, X_pca_train, y_train, cv=10)\n",
    "print(\"kNN - PCA dataset: %0.8f\" % score_knn3.mean())"
   ]
  },
  {
   "cell_type": "code",
   "execution_count": 24,
   "metadata": {},
   "outputs": [],
   "source": [
    "# Set Up Parameter Tuning\n",
    "knn_param_grid = { \n",
    "    'n_neighbors': [50, 100, 150, 200, 250, 300],\n",
    "    'leaf_size': [1, 50, 100, 150],\n",
    "    'weights': ['uniform', 'distance']\n",
    "}\n",
    "CV_knn0 = GridSearchCV(estimator=knn, param_grid=knn_param_grid, \n",
    "                      scoring='accuracy', n_jobs=-1, cv=5)\n",
    "CV_knn1 = GridSearchCV(estimator=knn, param_grid=knn_param_grid, \n",
    "                      scoring='accuracy', n_jobs=-1, cv=5)\n",
    "CV_knn2 = GridSearchCV(estimator=knn, param_grid=knn_param_grid, \n",
    "                      scoring='accuracy', n_jobs=-1, cv=5)\n",
    "CV_knn3 = GridSearchCV(estimator=knn, param_grid=knn_param_grid, \n",
    "                      scoring='accuracy', n_jobs=-1, cv=5)"
   ]
  },
  {
   "cell_type": "code",
   "execution_count": 25,
   "metadata": {},
   "outputs": [
    {
     "name": "stdout",
     "output_type": "stream",
     "text": [
      "Best score - original dataset: 0.77857778\n",
      "Best parameters set - original dataset:\n",
      "{'leaf_size': 1, 'n_neighbors': 200, 'weights': 'distance'}\n"
     ]
    }
   ],
   "source": [
    "# check best paramters on original dataset\n",
    "CV_knn0.fit(X_train, y_train)\n",
    "print(\"Best score - original dataset: %0.8f\" % CV_knn0.best_score_)\n",
    "print(\"Best parameters set - original dataset:\")\n",
    "print(CV_knn0.best_params_)"
   ]
  },
  {
   "cell_type": "code",
   "execution_count": 27,
   "metadata": {
    "scrolled": true
   },
   "outputs": [
    {
     "name": "stdout",
     "output_type": "stream",
     "text": [
      "0.7785777832581622\n"
     ]
    }
   ],
   "source": [
    "# RFE\n",
    "rfe_knn = RFE(estimator=KNeighborsClassifier(**CV_knn0.best_params_),\n",
    "              n_features_to_select=23, step=1)\n",
    "cross_val = cross_val_score(rfe_knn, X_train, y_train, cv=5)\n",
    "print(cross_val.mean())"
   ]
  },
  {
   "cell_type": "code",
   "execution_count": 28,
   "metadata": {},
   "outputs": [
    {
     "name": "stdout",
     "output_type": "stream",
     "text": [
      "Best score - OHE dataset: 0.77875556\n",
      "Best parameters set - OHE dataset:\n",
      "{'leaf_size': 1, 'n_neighbors': 200, 'weights': 'distance'}\n"
     ]
    }
   ],
   "source": [
    "# check best paramters on OHE dataset\n",
    "CV_knn1.fit(X_ohe_train, y_train)\n",
    "print(\"Best score - OHE dataset: %0.8f\" % CV_knn1.best_score_)\n",
    "print(\"Best parameters set - OHE dataset:\")\n",
    "print(CV_knn1.best_params_)"
   ]
  },
  {
   "cell_type": "code",
   "execution_count": 29,
   "metadata": {},
   "outputs": [
    {
     "name": "stdout",
     "output_type": "stream",
     "text": [
      "Best score - Discretized & OHE dataset: 0.78075556\n",
      "Best parameters set - Discretized & OHE dataset:\n",
      "{'leaf_size': 50, 'n_neighbors': 50, 'weights': 'uniform'}\n"
     ]
    }
   ],
   "source": [
    "# check best paramters on Discretized OHE dataset\n",
    "CV_knn2.fit(X_dis_train, y_train)\n",
    "print(\"Best score - Discretized & OHE dataset: %0.8f\" % CV_knn2.best_score_)\n",
    "print(\"Best parameters set - Discretized & OHE dataset:\")\n",
    "print(CV_knn2.best_params_)"
   ]
  },
  {
   "cell_type": "code",
   "execution_count": 30,
   "metadata": {},
   "outputs": [
    {
     "name": "stdout",
     "output_type": "stream",
     "text": [
      "Best score - PCA dataset: 0.77737778\n",
      "Best parameters set - PCA dataset:\n",
      "{'leaf_size': 1, 'n_neighbors': 200, 'weights': 'uniform'}\n"
     ]
    }
   ],
   "source": [
    "# check best paramters on PCA dataset\n",
    "CV_knn3.fit(X_pca_train, y_train)\n",
    "print(\"Best score - PCA dataset: %0.8f\" % CV_knn3.best_score_)\n",
    "print(\"Best parameters set - PCA dataset:\")\n",
    "print(CV_knn3.best_params_)"
   ]
  },
  {
   "cell_type": "markdown",
   "metadata": {},
   "source": [
    "## Random Forest"
   ]
  },
  {
   "cell_type": "code",
   "execution_count": 31,
   "metadata": {},
   "outputs": [
    {
     "name": "stdout",
     "output_type": "stream",
     "text": [
      "RF - original dataset: 0.80364519\n",
      "RF - OHE dataset: 0.80448924\n",
      "RF - Discretized OHE dataset: 0.80417765\n",
      "RF - PCA dataset: 0.72853305\n"
     ]
    }
   ],
   "source": [
    "# check Random Forest base performance\n",
    "rf = RandomForestClassifier(n_estimators=10)\n",
    "score_rf0 = cross_val_score(rf, X_train, y_train, cv=10)\n",
    "print(\"RF - original dataset: %0.8f\" % score_rf0.mean())\n",
    "score_rf1 = cross_val_score(rf, X_ohe_train, y_train, cv=10)\n",
    "print(\"RF - OHE dataset: %0.8f\" % score_rf1.mean())\n",
    "score_rf2 = cross_val_score(rf, X_dis_train, y_train, cv=10)\n",
    "print(\"RF - Discretized OHE dataset: %0.8f\" % score_rf2.mean())\n",
    "score_rf3 = cross_val_score(rf, X_pca_train, y_train, cv=10)\n",
    "print(\"RF - PCA dataset: %0.8f\" % score_rf3.mean())"
   ]
  },
  {
   "cell_type": "code",
   "execution_count": 32,
   "metadata": {},
   "outputs": [],
   "source": [
    "# Set Up Parameter Tuning\n",
    "rf_param_grid = { \n",
    "    'bootstrap': ['True', 'False'],\n",
    "    'criterion': ['gini', 'entropy'],\n",
    "    'n_estimators': [50, 100, 150, 200],\n",
    "    'min_samples_leaf': [50, 100, 150, 200, 250, 300],\n",
    "    'min_samples_split': [100, 200, 300, 400]\n",
    "}\n",
    "CV_rf0 = GridSearchCV(estimator=rf, param_grid=rf_param_grid, \n",
    "                      scoring='accuracy', n_jobs=-1, cv=5)\n",
    "CV_rf1 = GridSearchCV(estimator=rf, param_grid=rf_param_grid, \n",
    "                      scoring='accuracy', n_jobs=-1, cv=5)\n",
    "CV_rf2 = GridSearchCV(estimator=rf, param_grid=rf_param_grid, \n",
    "                      scoring='accuracy', n_jobs=-1, cv=5)\n",
    "CV_rf3 = GridSearchCV(estimator=rf, param_grid=rf_param_grid, \n",
    "                      scoring='accuracy', n_jobs=-1, cv=5)"
   ]
  },
  {
   "cell_type": "code",
   "execution_count": 33,
   "metadata": {},
   "outputs": [
    {
     "name": "stdout",
     "output_type": "stream",
     "text": [
      "Best score - original dataset: 0.82000000\n",
      "Best parameters set - original dataset:\n",
      "{'bootstrap': 'True', 'criterion': 'entropy', 'min_samples_leaf': 50, 'min_samples_split': 400, 'n_estimators': 50}\n"
     ]
    }
   ],
   "source": [
    "# check best paramters on original dataset\n",
    "CV_rf0.fit(X_train, y_train)\n",
    "print(\"Best score - original dataset: %0.8f\" % CV_rf0.best_score_)\n",
    "print(\"Best parameters set - original dataset:\")\n",
    "print(CV_rf0.best_params_)"
   ]
  },
  {
   "cell_type": "code",
   "execution_count": 34,
   "metadata": {
    "scrolled": true
   },
   "outputs": [
    {
     "name": "stdout",
     "output_type": "stream",
     "text": [
      "0.81666670257339\n"
     ]
    }
   ],
   "source": [
    "# RFE\n",
    "rfe_rf = RFE(estimator=RandomForestClassifier(**CV_rf0.best_params_),\n",
    "              n_features_to_select=23, step=1)\n",
    "cross_val = cross_val_score(rfe_rf, X_train, y_train, cv=5)\n",
    "print(cross_val.mean())"
   ]
  },
  {
   "cell_type": "code",
   "execution_count": 35,
   "metadata": {},
   "outputs": [
    {
     "name": "stdout",
     "output_type": "stream",
     "text": [
      "Best score - OHE dataset: 0.81955556\n",
      "Best parameters set - OHE dataset:\n",
      "{'bootstrap': 'False', 'criterion': 'gini', 'min_samples_leaf': 50, 'min_samples_split': 100, 'n_estimators': 150}\n"
     ]
    }
   ],
   "source": [
    "# check best paramters on OHE dataset\n",
    "CV_rf1.fit(X_ohe_train, y_train)\n",
    "print(\"Best score - OHE dataset: %0.8f\" % CV_rf1.best_score_)\n",
    "print(\"Best parameters set - OHE dataset:\")\n",
    "print(CV_rf1.best_params_)"
   ]
  },
  {
   "cell_type": "code",
   "execution_count": 36,
   "metadata": {},
   "outputs": [
    {
     "name": "stdout",
     "output_type": "stream",
     "text": [
      "Best score - Discretized & OHE dataset: 0.81960000\n",
      "Best parameters set - Discretized & OHE dataset:\n",
      "{'bootstrap': 'False', 'criterion': 'entropy', 'min_samples_leaf': 50, 'min_samples_split': 400, 'n_estimators': 50}\n"
     ]
    }
   ],
   "source": [
    "# check best paramters on Discretized OHE dataset\n",
    "CV_rf2.fit(X_dis_train, y_train)\n",
    "print(\"Best score - Discretized & OHE dataset: %0.8f\" % CV_rf2.best_score_)\n",
    "print(\"Best parameters set - Discretized & OHE dataset:\")\n",
    "print(CV_rf2.best_params_)"
   ]
  },
  {
   "cell_type": "code",
   "execution_count": 37,
   "metadata": {},
   "outputs": [
    {
     "name": "stdout",
     "output_type": "stream",
     "text": [
      "Best score - PCA dataset: 0.77737778\n",
      "Best parameters set - PCA dataset:\n",
      "{'bootstrap': 'True', 'criterion': 'gini', 'min_samples_leaf': 100, 'min_samples_split': 100, 'n_estimators': 50}\n"
     ]
    }
   ],
   "source": [
    "# check best paramters on PCA dataset\n",
    "CV_rf3.fit(X_pca_train, y_train)\n",
    "print(\"Best score - PCA dataset: %0.8f\" % CV_rf3.best_score_)\n",
    "print(\"Best parameters set - PCA dataset:\")\n",
    "print(CV_rf3.best_params_)"
   ]
  },
  {
   "cell_type": "markdown",
   "metadata": {},
   "source": [
    "## Decision Tree"
   ]
  },
  {
   "cell_type": "code",
   "execution_count": 38,
   "metadata": {},
   "outputs": [
    {
     "name": "stdout",
     "output_type": "stream",
     "text": [
      "Decision Tree - original dataset: 0.72133439\n",
      "Decision Tree - OHE dataset: 0.72044512\n",
      "Decision Tree - Discretized OHE dataset: 0.72457810\n",
      "Decision Tree - PCA dataset: 0.67093360\n"
     ]
    }
   ],
   "source": [
    "# check Decision Tree base performance\n",
    "dt = tree.DecisionTreeClassifier()\n",
    "score_dt0 = cross_val_score(dt, X_train, y_train, cv=10)\n",
    "print(\"Decision Tree - original dataset: %0.8f\" % score_dt0.mean())\n",
    "score_dt1 = cross_val_score(dt, X_ohe_train, y_train, cv=10)\n",
    "print(\"Decision Tree - OHE dataset: %0.8f\" % score_dt1.mean())\n",
    "score_dt2 = cross_val_score(dt, X_dis_train, y_train, cv=10)\n",
    "print(\"Decision Tree - Discretized OHE dataset: %0.8f\" % score_dt2.mean())\n",
    "score_dt3 = cross_val_score(dt, X_pca_train, y_train, cv=10)\n",
    "print(\"Decision Tree - PCA dataset: %0.8f\" % score_dt3.mean())"
   ]
  },
  {
   "cell_type": "code",
   "execution_count": 39,
   "metadata": {},
   "outputs": [],
   "source": [
    "# Set Up Parameter Tuning\n",
    "dt_param_grid = { \n",
    "    'criterion': ['gini', 'entropy'],\n",
    "    'min_samples_leaf': [100, 150, 200, 250, 300],\n",
    "    'min_samples_split': [10, 50, 100, 150]\n",
    "}\n",
    "CV_dt0 = GridSearchCV(estimator=dt, param_grid=dt_param_grid, \n",
    "                      scoring='accuracy', n_jobs=-1, cv=5)\n",
    "CV_dt1 = GridSearchCV(estimator=dt, param_grid=dt_param_grid, \n",
    "                      scoring='accuracy', n_jobs=-1, cv=5)\n",
    "CV_dt2 = GridSearchCV(estimator=dt, param_grid=dt_param_grid, \n",
    "                      scoring='accuracy', n_jobs=-1, cv=5)\n",
    "CV_dt3 = GridSearchCV(estimator=dt, param_grid=dt_param_grid, \n",
    "                      scoring='accuracy', n_jobs=-1, cv=5)"
   ]
  },
  {
   "cell_type": "code",
   "execution_count": 40,
   "metadata": {},
   "outputs": [
    {
     "name": "stdout",
     "output_type": "stream",
     "text": [
      "Best score - original dataset: 0.82008889\n",
      "Best parameters set - original dataset:\n",
      "{'criterion': 'gini', 'min_samples_leaf': 250, 'min_samples_split': 10}\n"
     ]
    }
   ],
   "source": [
    "# check best paramters on original dataset\n",
    "CV_dt0.fit(X_train, y_train)\n",
    "print(\"Best score - original dataset: %0.8f\" % CV_dt0.best_score_)\n",
    "print(\"Best parameters set - original dataset:\")\n",
    "print(CV_dt0.best_params_)"
   ]
  },
  {
   "cell_type": "code",
   "execution_count": 41,
   "metadata": {
    "scrolled": true
   },
   "outputs": [
    {
     "name": "stdout",
     "output_type": "stream",
     "text": [
      "0.8200891025821779\n"
     ]
    }
   ],
   "source": [
    "# RFE\n",
    "rfe_dt = RFE(estimator=tree.DecisionTreeClassifier(**CV_dt0.best_params_),\n",
    "              n_features_to_select=23, step=1)\n",
    "cross_val = cross_val_score(rfe_dt, X_train, y_train, cv=5)\n",
    "print(cross_val.mean())"
   ]
  },
  {
   "cell_type": "code",
   "execution_count": 42,
   "metadata": {},
   "outputs": [
    {
     "name": "stdout",
     "output_type": "stream",
     "text": [
      "Best score - OHE dataset: 0.82008889\n",
      "Best parameters set - OHE dataset:\n",
      "{'criterion': 'gini', 'min_samples_leaf': 250, 'min_samples_split': 10}\n"
     ]
    }
   ],
   "source": [
    "# check best paramters on OHE dataset\n",
    "CV_dt1.fit(X_ohe_train, y_train)\n",
    "print(\"Best score - OHE dataset: %0.8f\" % CV_dt1.best_score_)\n",
    "print(\"Best parameters set - OHE dataset:\")\n",
    "print(CV_dt1.best_params_)"
   ]
  },
  {
   "cell_type": "code",
   "execution_count": 43,
   "metadata": {},
   "outputs": [
    {
     "name": "stdout",
     "output_type": "stream",
     "text": [
      "Best score - Discretized & OHE dataset: 0.82008889\n",
      "Best parameters set - Discretized & OHE dataset:\n",
      "{'criterion': 'gini', 'min_samples_leaf': 200, 'min_samples_split': 10}\n"
     ]
    }
   ],
   "source": [
    "# check best paramters on Discretized OHE dataset\n",
    "CV_dt2.fit(X_dis_train, y_train)\n",
    "print(\"Best score - Discretized & OHE dataset: %0.8f\" % CV_dt2.best_score_)\n",
    "print(\"Best parameters set - Discretized & OHE dataset:\")\n",
    "print(CV_dt2.best_params_)"
   ]
  },
  {
   "cell_type": "code",
   "execution_count": 46,
   "metadata": {},
   "outputs": [
    {
     "name": "stdout",
     "output_type": "stream",
     "text": [
      "Best score - PCA dataset: 0.77737778\n",
      "Best parameters set - PCA dataset:\n",
      "{'criterion': 'gini', 'min_samples_leaf': 150, 'min_samples_split': 10}\n"
     ]
    }
   ],
   "source": [
    "# check best paramters on PCA dataset\n",
    "CV_dt3.fit(X_pca_train, y_train)\n",
    "print(\"Best score - PCA dataset: %0.8f\" % CV_dt3.best_score_)\n",
    "print(\"Best parameters set - PCA dataset:\")\n",
    "print(CV_dt3.best_params_)"
   ]
  },
  {
   "cell_type": "markdown",
   "metadata": {},
   "source": [
    "## SVC"
   ]
  },
  {
   "cell_type": "code",
   "execution_count": 47,
   "metadata": {},
   "outputs": [
    {
     "name": "stdout",
     "output_type": "stream",
     "text": [
      "SVC - original dataset: 0.77795559\n",
      "SVC - OHE dataset: 0.77795561\n",
      "SVC - Discretized OHE dataset: 0.78039997\n",
      "SVC - PCA dataset: 0.77906676\n"
     ]
    }
   ],
   "source": [
    "# check SVC base performance\n",
    "svc = SVC(gamma='auto')\n",
    "score_svc0 = cross_val_score(svc, X_train, y_train, cv=10)\n",
    "print(\"SVC - original dataset: %0.8f\" % score_svc0.mean())\n",
    "score_svc1 = cross_val_score(svc, X_ohe_train, y_train, cv=10)\n",
    "print(\"SVC - OHE dataset: %0.8f\" % score_svc1.mean())\n",
    "score_svc2 = cross_val_score(svc, X_dis_train, y_train, cv=10)\n",
    "print(\"SVC - Discretized OHE dataset: %0.8f\" % score_svc2.mean())\n",
    "score_svc3 = cross_val_score(svc, X_pca_train, y_train, cv=10)\n",
    "print(\"SVC - PCA dataset: %0.8f\" % score_svc3.mean())"
   ]
  },
  {
   "cell_type": "code",
   "execution_count": 48,
   "metadata": {},
   "outputs": [],
   "source": [
    "# Set Up Parameter Tuning\n",
    "svc_param_grid = { \n",
    "    'C': [0.1, 1, 10],\n",
    "    'gamma': ['auto', 'scale', 0.001, 0.1, 1, 10]\n",
    "}\n",
    "CV_svc0 = GridSearchCV(estimator=svc, param_grid=svc_param_grid, \n",
    "                      scoring='accuracy', n_jobs=-1, cv=5)\n",
    "CV_svc1 = GridSearchCV(estimator=svc, param_grid=svc_param_grid, \n",
    "                      scoring='accuracy', n_jobs=-1, cv=5)\n",
    "CV_svc2 = GridSearchCV(estimator=svc, param_grid=svc_param_grid, \n",
    "                      scoring='accuracy', n_jobs=-1, cv=5)\n",
    "CV_svc3 = GridSearchCV(estimator=svc, param_grid=svc_param_grid, \n",
    "                      scoring='accuracy', n_jobs=-1, cv=5)"
   ]
  },
  {
   "cell_type": "code",
   "execution_count": 49,
   "metadata": {},
   "outputs": [
    {
     "name": "stdout",
     "output_type": "stream",
     "text": [
      "Best score - original dataset: 0.77911111\n",
      "Best parameters set - original dataset:\n",
      "{'C': 1, 'gamma': 0.001}\n"
     ]
    }
   ],
   "source": [
    "# check best paramters on original dataset\n",
    "CV_svc0.fit(X_train, y_train)\n",
    "print(\"Best score - original dataset: %0.8f\" % CV_svc0.best_score_)\n",
    "print(\"Best parameters set - original dataset:\")\n",
    "print(CV_svc0.best_params_)"
   ]
  },
  {
   "cell_type": "code",
   "execution_count": 50,
   "metadata": {
    "scrolled": true
   },
   "outputs": [
    {
     "name": "stdout",
     "output_type": "stream",
     "text": [
      "0.779111235140747\n"
     ]
    }
   ],
   "source": [
    "# RFE\n",
    "rfe_svc = RFE(estimator=SVC(**CV_svc0.best_params_),\n",
    "              n_features_to_select=23, step=1)\n",
    "cross_val = cross_val_score(rfe_svc, X_train, y_train, cv=5)\n",
    "print(cross_val.mean())"
   ]
  },
  {
   "cell_type": "code",
   "execution_count": 51,
   "metadata": {},
   "outputs": [
    {
     "name": "stdout",
     "output_type": "stream",
     "text": [
      "Best score - OHE dataset: 0.77915556\n",
      "Best parameters set - OHE dataset:\n",
      "{'C': 1, 'gamma': 0.001}\n"
     ]
    }
   ],
   "source": [
    "# check best paramters on OHE dataset\n",
    "CV_svc1.fit(X_ohe_train, y_train)\n",
    "print(\"Best score - OHE dataset: %0.8f\" % CV_svc1.best_score_)\n",
    "print(\"Best parameters set - OHE dataset:\")\n",
    "print(CV_svc1.best_params_)"
   ]
  },
  {
   "cell_type": "code",
   "execution_count": 52,
   "metadata": {},
   "outputs": [
    {
     "name": "stdout",
     "output_type": "stream",
     "text": [
      "Best score - Discretized & OHE dataset: 0.78057778\n",
      "Best parameters set - Discretized & OHE dataset:\n",
      "{'C': 1, 'gamma': 'auto'}\n"
     ]
    }
   ],
   "source": [
    "# check best paramters on Discretized OHE dataset\n",
    "CV_svc2.fit(X_dis_train, y_train)\n",
    "print(\"Best score - Discretized & OHE dataset: %0.8f\" % CV_svc2.best_score_)\n",
    "print(\"Best parameters set - Discretized & OHE dataset:\")\n",
    "print(CV_svc2.best_params_)"
   ]
  },
  {
   "cell_type": "code",
   "execution_count": 53,
   "metadata": {},
   "outputs": [
    {
     "name": "stdout",
     "output_type": "stream",
     "text": [
      "Best score - PCA dataset: 0.77902222\n",
      "Best parameters set - PCA dataset:\n",
      "{'C': 1, 'gamma': 'auto'}\n"
     ]
    }
   ],
   "source": [
    "# check best paramters on PCA dataset\n",
    "CV_svc3.fit(X_pca_train, y_train)\n",
    "print(\"Best score - PCA dataset: %0.8f\" % CV_svc3.best_score_)\n",
    "print(\"Best parameters set - PCA dataset:\")\n",
    "print(CV_svc3.best_params_)"
   ]
  },
  {
   "cell_type": "markdown",
   "metadata": {},
   "source": [
    "# Making Predictions"
   ]
  },
  {
   "cell_type": "code",
   "execution_count": 78,
   "metadata": {},
   "outputs": [],
   "source": [
    "predictions = CV_dt2.predict(X_dis_test)"
   ]
  },
  {
   "cell_type": "markdown",
   "metadata": {},
   "source": [
    "## Evaluate Results"
   ]
  },
  {
   "cell_type": "code",
   "execution_count": 79,
   "metadata": {},
   "outputs": [
    {
     "name": "stdout",
     "output_type": "stream",
     "text": [
      "              precision    recall  f1-score   support\n",
      "\n",
      "           0       0.85      0.94      0.89      5873\n",
      "           1       0.64      0.39      0.49      1627\n",
      "\n",
      "   micro avg       0.82      0.82      0.82      7500\n",
      "   macro avg       0.75      0.66      0.69      7500\n",
      "weighted avg       0.80      0.82      0.80      7500\n",
      "\n"
     ]
    }
   ],
   "source": [
    "print(classification_report(y_test, predictions))"
   ]
  },
  {
   "cell_type": "code",
   "execution_count": 80,
   "metadata": {},
   "outputs": [],
   "source": [
    "accuracy = accuracy_score(y_test, predictions)"
   ]
  },
  {
   "cell_type": "code",
   "execution_count": 81,
   "metadata": {},
   "outputs": [],
   "source": [
    "bal_accuracy = balanced_accuracy_score(y_test, predictions)"
   ]
  },
  {
   "cell_type": "code",
   "execution_count": 82,
   "metadata": {},
   "outputs": [
    {
     "name": "stdout",
     "output_type": "stream",
     "text": [
      "Accuray: 0.821\n",
      "Balanced Accuracy: 0.665\n"
     ]
    }
   ],
   "source": [
    "print('Accuray: %.3f' % accuracy)\n",
    "print('Balanced Accuracy: %.3f' % bal_accuracy)"
   ]
  },
  {
   "cell_type": "code",
   "execution_count": 91,
   "metadata": {},
   "outputs": [
    {
     "name": "stdout",
     "output_type": "stream",
     "text": [
      "[2.27193656e-02 0.00000000e+00 1.87101871e-03 1.88430854e-03\n",
      " 4.86961238e-04 6.57845464e-01 1.35694182e-01 5.03277491e-03\n",
      " 3.27570938e-02 0.00000000e+00 2.14280129e-02 2.64398136e-02\n",
      " 9.20138302e-03 2.46978977e-03 0.00000000e+00 0.00000000e+00\n",
      " 1.36605756e-03 7.65147428e-03 4.61385451e-02 4.29237343e-03\n",
      " 1.73214478e-02 4.37909273e-03 1.02084122e-03]\n"
     ]
    }
   ],
   "source": [
    "model = tree.DecisionTreeClassifier(**CV_dt0.best_params_)\n",
    "model.fit(X_train, y_train)\n",
    "print(model.feature_importances_)"
   ]
  },
  {
   "cell_type": "code",
   "execution_count": 89,
   "metadata": {},
   "outputs": [
    {
     "name": "stdout",
     "output_type": "stream",
     "text": [
      "<class 'pandas.core.frame.DataFrame'>\n",
      "Int64Index: 22500 entries, 16095 to 19966\n",
      "Data columns (total 23 columns):\n",
      "LIMIT_BAL    22500 non-null int64\n",
      "SEX          22500 non-null int64\n",
      "EDUCATION    22500 non-null int64\n",
      "MARRIAGE     22500 non-null int64\n",
      "AGE          22500 non-null int64\n",
      "PAY_0        22500 non-null int64\n",
      "PAY_2        22500 non-null int64\n",
      "PAY_3        22500 non-null int64\n",
      "PAY_4        22500 non-null int64\n",
      "PAY_5        22500 non-null int64\n",
      "PAY_6        22500 non-null int64\n",
      "BILL_AMT1    22500 non-null int64\n",
      "BILL_AMT2    22500 non-null int64\n",
      "BILL_AMT3    22500 non-null int64\n",
      "BILL_AMT4    22500 non-null int64\n",
      "BILL_AMT5    22500 non-null int64\n",
      "BILL_AMT6    22500 non-null int64\n",
      "PAY_AMT1     22500 non-null int64\n",
      "PAY_AMT2     22500 non-null int64\n",
      "PAY_AMT3     22500 non-null int64\n",
      "PAY_AMT4     22500 non-null int64\n",
      "PAY_AMT5     22500 non-null int64\n",
      "PAY_AMT6     22500 non-null int64\n",
      "dtypes: int64(23)\n",
      "memory usage: 4.1 MB\n"
     ]
    }
   ],
   "source": [
    "X_train.info()"
   ]
  }
 ],
 "metadata": {
  "kernelspec": {
   "display_name": "Python 3",
   "language": "python",
   "name": "python3"
  },
  "language_info": {
   "codemirror_mode": {
    "name": "ipython",
    "version": 3
   },
   "file_extension": ".py",
   "mimetype": "text/x-python",
   "name": "python",
   "nbconvert_exporter": "python",
   "pygments_lexer": "ipython3",
   "version": "3.7.3"
  }
 },
 "nbformat": 4,
 "nbformat_minor": 2
}
